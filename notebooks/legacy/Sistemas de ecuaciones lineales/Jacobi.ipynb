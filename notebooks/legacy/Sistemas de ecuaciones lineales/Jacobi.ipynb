{
 "cells": [
  {
   "cell_type": "code",
   "execution_count": 2,
   "metadata": {},
   "outputs": [],
   "source": [
    "from numpy import *"
   ]
  },
  {
   "cell_type": "markdown",
   "metadata": {},
   "source": [
    "# Algoritmo de Jacobi\n",
    "\n",
    "Algoritmo utilizado para hallar solución a sistemas lineales de orden $n$ en la forma $Ax = b$ con error menor que $\\varepsilon$ \n",
    "\n",
    "Hipótesis:\n",
    "- Se supone que la matriz $A$ posee diagonal predominante"
   ]
  },
  {
   "cell_type": "markdown",
   "metadata": {},
   "source": [
    "### Implementación"
   ]
  },
  {
   "cell_type": "markdown",
   "metadata": {},
   "source": [
    "``` Jacobi(a, b, x0, f_convergencia, tol): ``` Implementación del algoritmo de Jacobi para hallar solución a sistemas de ecuaciones lineales \n",
    "\n",
    "##### Parámetros\n",
    "\n",
    "- ``` a ``` : matriz de los coeficientes\n",
    "- ``` b ``` : matriz de los términos independientes\n",
    "- ``` x0 ``` : matriz columna que representa los valores estimados de solucio (se puede utilizar la matriz trivial)\n",
    "- ``` f_convergencia ``` : define el factor de convergencia de la matriz A\n",
    "- ``` tol ``` : Cota para el error absoluto "
   ]
  },
  {
   "cell_type": "code",
   "execution_count": 3,
   "metadata": {},
   "outputs": [],
   "source": [
    "def jacobi(a, b, x0, f_convergencia, tol):\n",
    "    xv = copy(x0)\n",
    "    xa = zeros(b.shape[0] )\n",
    "    condition = True\n",
    "    step = 0\n",
    "\n",
    "    while condition:\n",
    "        error = 0\n",
    "        \n",
    "        \n",
    "        for i in range(a.shape[0] ):\n",
    "            xa[i] = b[i]\n",
    "        \n",
    "        \n",
    "            for j in range(a.shape[1] ):\n",
    "                if j != i:\n",
    "                    xa[i] -= a[i][j] * xv[j]\n",
    "            \n",
    "            \n",
    "            xa[i] /= a[i][i]\n",
    "            \n",
    "            \n",
    "            if abs(xa[i] - xv[i] ) > error:\n",
    "                error = abs(xa[i] - xv[i])\n",
    "        \n",
    "        \n",
    "        error *= abs(f_convergencia / (1 - f_convergencia) )\n",
    "\n",
    "        \n",
    "        print(str(step) + '\\t ', end = '')\n",
    "        \n",
    "        \n",
    "        for i in range(len(xv) ):\n",
    "            print(\"{:.5f}\\t \".format(xv[i] ), end = '')\n",
    "        \n",
    "        \n",
    "        print('{:.5f}'.format(error) )\n",
    "\n",
    "        xv = copy(xa)\n",
    "        \n",
    "        step += 1\n",
    "\n",
    "        condition = error > tol"
   ]
  },
  {
   "cell_type": "markdown",
   "metadata": {},
   "source": [
    "#### Hallar factor de convergencia\n",
    "\n",
    "``` hallar_factor_convergencia(a): ``` Halla el factor de convergencia de la matriz a\n",
    "\n",
    "##### Parámetros\n",
    "``` a ``` : matriz de los coeficientes"
   ]
  },
  {
   "cell_type": "code",
   "execution_count": 4,
   "metadata": {},
   "outputs": [],
   "source": [
    "def hallar_factor_convergencia(a):\n",
    "    \n",
    "    a = absolute(a)\n",
    "    result = []\n",
    "\n",
    "    for i in range(len(a)):\n",
    "        total_fila = sum(a[i])\n",
    "\n",
    "        if total_fila - a[i][i] < 0:\n",
    "            raise Exception(\"El factor de convergencia de la matriz es mayor que 0\")\n",
    "\n",
    "        result.append((total_fila - a[i][i]) / a[i][i])\n",
    "    \n",
    "    return max(result)"
   ]
  },
  {
   "cell_type": "markdown",
   "metadata": {},
   "source": [
    "### Inserción de datos"
   ]
  },
  {
   "cell_type": "code",
   "execution_count": 15,
   "metadata": {},
   "outputs": [
    {
     "name": "stdout",
     "output_type": "stream",
     "text": [
      "0.5\n"
     ]
    }
   ],
   "source": [
    "a = array( [[ 4, 1, -1],\n",
    "             [1, 4, -1],\n",
    "             [1, -1, 4]] )\n",
    "     \n",
    "b = array( [3, 6, 11] )\n",
    "\n",
    "x0 = array( [0, 0, 0] )\n",
    "\n",
    "tol = 0.005\n",
    "\n",
    "f_convergencia = hallar_factor_convergencia(a)\n",
    "\n",
    "print(f_convergencia)"
   ]
  },
  {
   "cell_type": "markdown",
   "metadata": {},
   "source": [
    "### Salida de datos"
   ]
  },
  {
   "cell_type": "code",
   "execution_count": 16,
   "metadata": {
    "tags": []
   },
   "outputs": [
    {
     "name": "stdout",
     "output_type": "stream",
     "text": [
      "iter   \t x1     \t x2     \t x3     \t error  \n",
      "----------------------------------------------------------------------\n",
      "0\t 0.00000\t 0.00000\t 0.00000\t 2.75000\n",
      "1\t 0.75000\t 1.50000\t 2.75000\t 0.50000\n",
      "2\t 1.06250\t 2.00000\t 2.93750\t 0.07812\n",
      "3\t 0.98438\t 1.96875\t 2.98438\t 0.03125\n",
      "4\t 1.00391\t 2.00000\t 2.99609\t 0.00488\n"
     ]
    }
   ],
   "source": [
    "print (\"{:<7}\\t {:<7}\\t {:<7}\\t {:<7}\\t {:<7}\".format(\"iter\", \"x1\", \"x2\", \"x3\", \"error\") )\n",
    "print ('-' * 70)\n",
    "\n",
    "root = jacobi(a, b, x0, f_convergencia, tol)"
   ]
  },
  {
   "cell_type": "code",
   "execution_count": null,
   "metadata": {},
   "outputs": [],
   "source": []
  }
 ],
 "metadata": {
  "interpreter": {
   "hash": "50a1c7f7f999c358e0b5259763df47a04f976b7989cc44fe344baf2ec3d120ee"
  },
  "kernelspec": {
   "display_name": "Python 3 (ipykernel)",
   "language": "python",
   "name": "python3"
  },
  "language_info": {
   "codemirror_mode": {
    "name": "ipython",
    "version": 3
   },
   "file_extension": ".py",
   "mimetype": "text/x-python",
   "name": "python",
   "nbconvert_exporter": "python",
   "pygments_lexer": "ipython3",
   "version": "3.11.4"
  }
 },
 "nbformat": 4,
 "nbformat_minor": 4
}
