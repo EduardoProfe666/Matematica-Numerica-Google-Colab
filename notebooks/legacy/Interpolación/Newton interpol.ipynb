{
 "cells": [
  {
   "cell_type": "code",
   "execution_count": 1,
   "id": "671380b7",
   "metadata": {},
   "outputs": [],
   "source": [
    "from numpy import *\n",
    "import matplotlib.pyplot as plt\n",
    "%matplotlib inline"
   ]
  },
  {
   "cell_type": "markdown",
   "id": "bb8926a8",
   "metadata": {},
   "source": [
    "## Interpolación de Newton o Diferencias Dividas\n",
    "\n",
    "Es un método de interpolación polinómica.<br>\n",
    "Este método es útil para situaciones que requieran un número bajo de puntos para interpolar, ya que a medida que crece el número de puntos, también lo hace el grado del polinomio.\n",
    "\n",
    "### Definición de pendiente de orden n\n",
    "El primer paso para hallar la fórmula de la interpolación es definir la pendiente de orden $n$  de manera recursiva:\n",
    "\n",
    "- $f_0(x_i)$ : término i-ésimo de la secuencia\n",
    "\n",
    "- $f_1(x_0, x_1) = \\frac{f_0(x_1) - f_0(x_0)}{x_1 - x_0}$\n",
    "\n",
    "- $f_2(x_0, x_1, x_2) = \\frac{f_1(x_1,x_2) - f_1(x_0,x_1)}{x_2 - x_0}$ \n",
    "\n",
    "En general: <br>\n",
    "- $f_i(x_0, x_1, ..., x_{i-1}, x_i) = \\frac{f_{i-1}(x_1,...,x_{i-1},x_i) - f_{i-1}(x_0,x_1,...,x_{i-1})}{x_i - x_0}$\n",
    "\n",
    "### Definición del polinomio\n",
    "Una vez conocemos la pendiente, ya es posible definir el polinomio de grado $n$ de manera también recursiva:\n",
    "\n",
    "- $p_0(x) = f_0(x_0) = x_0$. Se define así ya que este es el único valor que se ajusta a la secuencia original para el primer término.\n",
    "\n",
    "- $p_1(x) = p_0(x) + f_1(x_0,x_1) * (x - x_0)$\n",
    "- $p_2(x) = p_1(x) + f_2(x_0, x_1, x_2) * (x - x_0) * (x - x_1)$\n",
    "\n",
    "En general<br>\n",
    "\n",
    "- $p_i(x) = p_{i-1}(v) + f_i(x_0,x_1,...,x_{i-1},x_i) \\prod_{j = 0}^{i - 1}(x - x_j)$"
   ]
  },
  {
   "cell_type": "markdown",
   "id": "8b3aa6b1",
   "metadata": {},
   "source": [
    "## Implementación"
   ]
  },
  {
   "cell_type": "markdown",
   "id": "f23f6769",
   "metadata": {},
   "source": [
    "```def diferencias_divididas(x, y):``` función para calcular la tabla de las diferencias divididas\n",
    "\n",
    "Entrada:\n",
    "- ```x``` = arreglo que contiene los coeficientes de x\n",
    "- ```y``` = arreglo que contiene los valores de y para cada x\n",
    "\n",
    "Salida:\n",
    "\n",
    "- ```coef``` = tabla de diferencias divididas"
   ]
  },
  {
   "cell_type": "code",
   "execution_count": 2,
   "id": "5e4c36fc",
   "metadata": {},
   "outputs": [],
   "source": [
    "def diferencias_divididas(x, y):\n",
    "\n",
    "    n = y.shape[0]\n",
    "    coef = zeros((n,n))\n",
    "    coef[:,0] = y\n",
    "    \n",
    "    for j in range(1,n):\n",
    "        for i in range(n-j):\n",
    "            coef[i][j] =(coef[i+1][j-1] - coef[i][j-1]) /(x[i+j] - x[i])\n",
    "    \n",
    "    return coef"
   ]
  },
  {
   "cell_type": "markdown",
   "id": "01e1e671",
   "metadata": {},
   "source": [
    "```def newton_poly(coef, x_data, x_0)``` función para evaluar el polinomio de Newton en $x_0$\n",
    "\n",
    "Entrada:\n",
    "- ```coef``` = tabla de las diferencias divididas\n",
    "- ```x_data``` = valores de x\n",
    "- ```x_0``` = valor en el que evaluar el polinomio"
   ]
  },
  {
   "cell_type": "code",
   "execution_count": 3,
   "id": "4bdfa1ee",
   "metadata": {},
   "outputs": [],
   "source": [
    "def newton_poly(coef, x_data, x0):\n",
    "\n",
    "    n = len(x_data) - 1\n",
    "    p = coef[n]\n",
    "    \n",
    "    for i in range(1, n + 1):\n",
    "        p = coef[n-i] +(x0 - x_data[n-i]) * p\n",
    "    \n",
    "    return p"
   ]
  },
  {
   "cell_type": "markdown",
   "id": "2e73a061",
   "metadata": {},
   "source": [
    "## Inserción de datos:"
   ]
  },
  {
   "cell_type": "code",
   "execution_count": 4,
   "id": "3052d481",
   "metadata": {},
   "outputs": [],
   "source": [
    "x = array([1.15, 1.20, 1.10, 1.25, 1.05, 1.30])\n",
    "y = array([0.93304, 0.91817, 0.95135, 0.90640, 0.97350, 0.89747])\n",
    "\n",
    "#numero de diferencia divididas a mostrar\n",
    "n = 3"
   ]
  },
  {
   "cell_type": "markdown",
   "id": "0b85e338",
   "metadata": {},
   "source": [
    "## Salida:"
   ]
  },
  {
   "cell_type": "code",
   "execution_count": 5,
   "id": "1f807258",
   "metadata": {},
   "outputs": [
    {
     "name": "stdout",
     "output_type": "stream",
     "text": [
      "x      \t f(x)   \t dif 1      \t dif 2      \t dif 3      \t \n",
      "1.15000\t 0.93304\t 0.93304\t -0.29740\t 0.68800\t \n",
      "\n",
      "1.20000\t 0.91817\t 0.91817\t -0.33180\t 0.64267\t \n",
      "\n",
      "1.10000\t 0.95135\t 0.95135\t -0.29967\t 0.71667\t \n",
      "\n",
      "1.25000\t 0.90640\t 0.90640\t -0.33550\t 0.62760\t \n",
      "\n",
      "1.05000\t 0.97350\t 0.97350\t -0.30412\t 0.00000\t \n",
      "\n",
      "1.30000\t 0.89747\t 0.89747\t 0.00000\t 0.00000\t \n",
      "\n"
     ]
    },
    {
     "data": {
      "text/plain": [
       "[<matplotlib.lines.Line2D at 0x211ee33b950>]"
      ]
     },
     "execution_count": 5,
     "metadata": {},
     "output_type": "execute_result"
    },
    {
     "data": {
      "image/png": "[encoded data removed]",
      "text/plain": [
       "<Figure size 1200x800 with 1 Axes>"
      ]
     },
     "metadata": {},
     "output_type": "display_data"
    }
   ],
   "source": [
    "a_s = diferencias_divididas(x, y)\n",
    "\n",
    "#encabezado\n",
    "print (\"{:<7}\\t {:<7}\\t \".format(\"x\", \"f(x)\"), end = '')\n",
    "for i in range(n):\n",
    "    print(\"dif {:<7}\\t \".format(i+1), end = '')\n",
    "print()\n",
    "\n",
    "for i in range(a_s.shape[0]):\n",
    "    print(\"{:.5f}\\t {:.5f}\\t \".format(x[i],y[i]), end = '')\n",
    "    for j in range(n):\n",
    "        print(\"{:.5f}\\t \".format(a_s[i][j]), end = '')\n",
    "    print(\"\\n\")\n",
    "\n",
    "x0 = arange(x[0], x[len(x)-1], .1)\n",
    "y0 = newton_poly(a_s[0,:], x, x0)\n",
    "\n",
    "plt.figure( figsize =(12,8) )\n",
    "plt.plot(x ,y, \"bo\")\n",
    "plt.plot(x0,y0)"
   ]
  },
  {
   "cell_type": "code",
   "execution_count": null,
   "id": "ebd9d0d1-ade9-414b-a8cb-fe906039e105",
   "metadata": {},
   "outputs": [],
   "source": []
  }
 ],
 "metadata": {
  "interpreter": {
   "hash": "50a1c7f7f999c358e0b5259763df47a04f976b7989cc44fe344baf2ec3d120ee"
  },
  "kernelspec": {
   "display_name": "Python 3 (ipykernel)",
   "language": "python",
   "name": "python3"
  },
  "language_info": {
   "codemirror_mode": {
    "name": "ipython",
    "version": 3
   },
   "file_extension": ".py",
   "mimetype": "text/x-python",
   "name": "python",
   "nbconvert_exporter": "python",
   "pygments_lexer": "ipython3",
   "version": "3.11.4"
  }
 },
 "nbformat": 4,
 "nbformat_minor": 5
}
