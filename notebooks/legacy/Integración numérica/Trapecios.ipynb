{
 "cells": [
  {
   "cell_type": "code",
   "execution_count": 1,
   "metadata": {},
   "outputs": [],
   "source": [
    "import re\n",
    "import numpy as np\n",
    "import numpy.polynomial as pol"
   ]
  },
  {
   "cell_type": "markdown",
   "metadata": {},
   "source": [
    "# Método de los trapecios"
   ]
  },
  {
   "cell_type": "markdown",
   "metadata": {},
   "source": [
    "## Métodos auxiliares [NO TOCAR]"
   ]
  },
  {
   "cell_type": "code",
   "execution_count": 2,
   "metadata": {},
   "outputs": [],
   "source": [
    "def poly_coefficients(raw_polynomial):\n",
    "    regexp = r\"(-?\\d*)(x?)(?:(?:\\^|\\*\\*)(\\d))?\"\n",
    "    c = {}\n",
    "\n",
    "    for coef, x, exp in re.findall(regexp, raw_polynomial):\n",
    "        if not coef and not x:\n",
    "            continue\n",
    "        if x and not coef:\n",
    "            coef = '1'\n",
    "        if x and coef == \"-\":\n",
    "            coef = \"-1\"\n",
    "        if x and not exp:\n",
    "            exp = '1'\n",
    "        if coef and not x:\n",
    "            exp = '0'\n",
    "\n",
    "        try:\n",
    "            c [int(exp) ] = c[int(exp) ] + float(coef)\n",
    "        except KeyError:\n",
    "            c [int(exp) ] = float(coef)\n",
    "\n",
    "    grade = max(c)\n",
    "    coefficients = [0.0] * (grade + 1)\n",
    "\n",
    "    for g, v in c.items():\n",
    "        coefficients [g] = v\n",
    "    coefficients.reverse()\n",
    "\n",
    "    if coefficients [0] < 0:\n",
    "        coefficients = positive_max_grade(coefficients)\n",
    "\n",
    "    return coefficients"
   ]
  },
  {
   "cell_type": "markdown",
   "metadata": {},
   "source": [
    "## Caso para valores tabulares:\n",
    "\n",
    "### En el código: </br>\n",
    "```xi``` -> Valores de ```x``` </br>\n",
    "```yi``` -> Valores de ```y``` </br>\n",
    "```n``` -> Número de intervalos </br>\n",
    "```h``` -> Paso </br>\n",
    "\n",
    "```i_trap``` -> Resultado </br>"
   ]
  },
  {
   "cell_type": "markdown",
   "metadata": {},
   "source": [
    "### Inserción de datos:"
   ]
  },
  {
   "cell_type": "code",
   "execution_count": 3,
   "metadata": {},
   "outputs": [],
   "source": [
    "xi = [2, 6, 10, 14, 18, 22]\n",
    "yi = [1.5, 5.2, 6.2, 6.4, 5.9, 3.5]\n",
    "n = 6\n",
    "h = 4"
   ]
  },
  {
   "cell_type": "markdown",
   "metadata": {},
   "source": [
    "### Salida:"
   ]
  },
  {
   "cell_type": "code",
   "execution_count": 4,
   "metadata": {},
   "outputs": [
    {
     "name": "stdout",
     "output_type": "stream",
     "text": [
      "104.80000000000001\n"
     ]
    }
   ],
   "source": [
    "yint = [yi[i] for i in range(1, len(yi) - 1, 1) ] \n",
    "i_trap = (h / 2) * (yi[0] + 2 * sum(yint) + yi[-1] )\n",
    "\n",
    "print (i_trap)"
   ]
  },
  {
   "cell_type": "markdown",
   "metadata": {},
   "source": [
    "## Caso para valores expresados en una función:"
   ]
  },
  {
   "cell_type": "markdown",
   "metadata": {},
   "source": [
    "### Funciones polinómicas:\n",
    "\n",
    "$$\n",
    "\\int_{a}^{b} \\! f(x) \\, dx \\, , con \\, n \\, intervalos\n",
    "$$\n",
    "\n",
    "### En el código: </br>\n",
    "```a``` -> Limite inferior del intervalo </br>\n",
    "```b``` -> Limite superior del intervalo </br>\n",
    "```n``` -> Número de intervalos </br>\n",
    "```f``` -> Función polinómica a evaluar </br>\n",
    "```x``` -> se encarga de generar los valores de x en dependencia del intervalo\n",
    "\n",
    "```i_trap``` -> Resultado </br>"
   ]
  },
  {
   "cell_type": "markdown",
   "metadata": {},
   "source": [
    "#### Inserción de datos:"
   ]
  },
  {
   "cell_type": "code",
   "execution_count": 5,
   "metadata": {},
   "outputs": [],
   "source": [
    "a = 0\n",
    "b = 2\n",
    "n = 4\n",
    "h = (b - a) / (n - 1)\n",
    "x = np.linspace(a, b, n)\n",
    "f = \"4x^3-2x\""
   ]
  },
  {
   "cell_type": "markdown",
   "metadata": {},
   "source": [
    "#### Salida:"
   ]
  },
  {
   "cell_type": "code",
   "execution_count": 6,
   "metadata": {},
   "outputs": [
    {
     "ename": "ValueError",
     "evalue": "Coefficient arrays have no common type",
     "output_type": "error",
     "traceback": [
      "\u001b[1;31m---------------------------------------------------------------------------\u001b[0m",
      "\u001b[1;31mTypeError\u001b[0m                                 Traceback (most recent call last)",
      "File \u001b[1;32mD:\\Programas\\python\\Lib\\site-packages\\numpy\\polynomial\\polyutils.py:153\u001b[0m, in \u001b[0;36mas_series\u001b[1;34m(alist, trim)\u001b[0m\n\u001b[0;32m    152\u001b[0m \u001b[38;5;28;01mtry\u001b[39;00m:\n\u001b[1;32m--> 153\u001b[0m     dtype \u001b[38;5;241m=\u001b[39m \u001b[43mnp\u001b[49m\u001b[38;5;241;43m.\u001b[39;49m\u001b[43mcommon_type\u001b[49m\u001b[43m(\u001b[49m\u001b[38;5;241;43m*\u001b[39;49m\u001b[43marrays\u001b[49m\u001b[43m)\u001b[49m\n\u001b[0;32m    154\u001b[0m \u001b[38;5;28;01mexcept\u001b[39;00m \u001b[38;5;167;01mException\u001b[39;00m \u001b[38;5;28;01mas\u001b[39;00m e:\n",
      "File \u001b[1;32mD:\\Programas\\python\\Lib\\site-packages\\numpy\\lib\\type_check.py:730\u001b[0m, in \u001b[0;36mcommon_type\u001b[1;34m(*arrays)\u001b[0m\n\u001b[0;32m    729\u001b[0m     \u001b[38;5;28;01mif\u001b[39;00m p \u001b[38;5;129;01mis\u001b[39;00m \u001b[38;5;28;01mNone\u001b[39;00m:\n\u001b[1;32m--> 730\u001b[0m         \u001b[38;5;28;01mraise\u001b[39;00m \u001b[38;5;167;01mTypeError\u001b[39;00m(\u001b[38;5;124m\"\u001b[39m\u001b[38;5;124mcan\u001b[39m\u001b[38;5;124m'\u001b[39m\u001b[38;5;124mt get common type for non-numeric array\u001b[39m\u001b[38;5;124m\"\u001b[39m)\n\u001b[0;32m    731\u001b[0m precision \u001b[38;5;241m=\u001b[39m \u001b[38;5;28mmax\u001b[39m(precision, p)\n",
      "\u001b[1;31mTypeError\u001b[0m: can't get common type for non-numeric array",
      "\nThe above exception was the direct cause of the following exception:\n",
      "\u001b[1;31mValueError\u001b[0m                                Traceback (most recent call last)",
      "Cell \u001b[1;32mIn[6], line 4\u001b[0m\n\u001b[0;32m      1\u001b[0m raw_c \u001b[38;5;241m=\u001b[39m poly_coefficients(f)\n\u001b[0;32m      2\u001b[0m coef \u001b[38;5;241m=\u001b[39m f[::\u001b[38;5;241m-\u001b[39m\u001b[38;5;241m1\u001b[39m]\n\u001b[1;32m----> 4\u001b[0m p \u001b[38;5;241m=\u001b[39m \u001b[43mpol\u001b[49m\u001b[38;5;241;43m.\u001b[39;49m\u001b[43mPolynomial\u001b[49m\u001b[43m(\u001b[49m\u001b[43mcoef\u001b[49m\u001b[43m)\u001b[49m\n\u001b[0;32m      6\u001b[0m i_trap \u001b[38;5;241m=\u001b[39m (h \u001b[38;5;241m/\u001b[39m \u001b[38;5;241m2\u001b[39m) \u001b[38;5;241m*\u001b[39m (p(a) \u001b[38;5;241m+\u001b[39m \u001b[38;5;241m2\u001b[39m \u001b[38;5;241m*\u001b[39m (\u001b[38;5;28msum\u001b[39m(p(x) ) \u001b[38;5;241m-\u001b[39m p(a) \u001b[38;5;241m-\u001b[39m p(b) ) \u001b[38;5;241m+\u001b[39m p(b) )\n\u001b[0;32m      8\u001b[0m \u001b[38;5;28mprint\u001b[39m(i_trap)\n",
      "File \u001b[1;32mD:\\Programas\\python\\Lib\\site-packages\\numpy\\polynomial\\_polybase.py:305\u001b[0m, in \u001b[0;36mABCPolyBase.__init__\u001b[1;34m(self, coef, domain, window, symbol)\u001b[0m\n\u001b[0;32m    304\u001b[0m \u001b[38;5;28;01mdef\u001b[39;00m \u001b[38;5;21m__init__\u001b[39m(\u001b[38;5;28mself\u001b[39m, coef, domain\u001b[38;5;241m=\u001b[39m\u001b[38;5;28;01mNone\u001b[39;00m, window\u001b[38;5;241m=\u001b[39m\u001b[38;5;28;01mNone\u001b[39;00m, symbol\u001b[38;5;241m=\u001b[39m\u001b[38;5;124m'\u001b[39m\u001b[38;5;124mx\u001b[39m\u001b[38;5;124m'\u001b[39m):\n\u001b[1;32m--> 305\u001b[0m     [coef] \u001b[38;5;241m=\u001b[39m \u001b[43mpu\u001b[49m\u001b[38;5;241;43m.\u001b[39;49m\u001b[43mas_series\u001b[49m\u001b[43m(\u001b[49m\u001b[43m[\u001b[49m\u001b[43mcoef\u001b[49m\u001b[43m]\u001b[49m\u001b[43m,\u001b[49m\u001b[43m \u001b[49m\u001b[43mtrim\u001b[49m\u001b[38;5;241;43m=\u001b[39;49m\u001b[38;5;28;43;01mFalse\u001b[39;49;00m\u001b[43m)\u001b[49m\n\u001b[0;32m    306\u001b[0m     \u001b[38;5;28mself\u001b[39m\u001b[38;5;241m.\u001b[39mcoef \u001b[38;5;241m=\u001b[39m coef\n\u001b[0;32m    308\u001b[0m     \u001b[38;5;28;01mif\u001b[39;00m domain \u001b[38;5;129;01mis\u001b[39;00m \u001b[38;5;129;01mnot\u001b[39;00m \u001b[38;5;28;01mNone\u001b[39;00m:\n",
      "File \u001b[1;32mD:\\Programas\\python\\Lib\\site-packages\\numpy\\polynomial\\polyutils.py:155\u001b[0m, in \u001b[0;36mas_series\u001b[1;34m(alist, trim)\u001b[0m\n\u001b[0;32m    153\u001b[0m         dtype \u001b[38;5;241m=\u001b[39m np\u001b[38;5;241m.\u001b[39mcommon_type(\u001b[38;5;241m*\u001b[39marrays)\n\u001b[0;32m    154\u001b[0m     \u001b[38;5;28;01mexcept\u001b[39;00m \u001b[38;5;167;01mException\u001b[39;00m \u001b[38;5;28;01mas\u001b[39;00m e:\n\u001b[1;32m--> 155\u001b[0m         \u001b[38;5;28;01mraise\u001b[39;00m \u001b[38;5;167;01mValueError\u001b[39;00m(\u001b[38;5;124m\"\u001b[39m\u001b[38;5;124mCoefficient arrays have no common type\u001b[39m\u001b[38;5;124m\"\u001b[39m) \u001b[38;5;28;01mfrom\u001b[39;00m \u001b[38;5;21;01me\u001b[39;00m\n\u001b[0;32m    156\u001b[0m     ret \u001b[38;5;241m=\u001b[39m [np\u001b[38;5;241m.\u001b[39marray(a, copy\u001b[38;5;241m=\u001b[39m\u001b[38;5;28;01mTrue\u001b[39;00m, dtype\u001b[38;5;241m=\u001b[39mdtype) \u001b[38;5;28;01mfor\u001b[39;00m a \u001b[38;5;129;01min\u001b[39;00m arrays]\n\u001b[0;32m    157\u001b[0m \u001b[38;5;28;01mreturn\u001b[39;00m ret\n",
      "\u001b[1;31mValueError\u001b[0m: Coefficient arrays have no common type"
     ]
    }
   ],
   "source": [
    "raw_c = poly_coefficients(f)\n",
    "coef = f[::-1]\n",
    "\n",
    "p = pol.Polynomial(coef)\n",
    "\n",
    "i_trap = (h / 2) * (p(a) + 2 * (sum(p(x) ) - p(a) - p(b) ) + p(b) )\n",
    "\n",
    "print(i_trap)"
   ]
  },
  {
   "cell_type": "markdown",
   "metadata": {},
   "source": [
    "### Resto de funciones, expresadas como funciones de _numpy_\n",
    "\n",
    "$$\n",
    "\\int_{a}^{b} \\! f(x) \\, dx \\, , con \\, n \\, intervalos\n",
    "$$\n",
    "\n",
    "### En el código: </br>\n",
    "```a``` -> Limite inferior del intervalo </br>\n",
    "```b``` -> Limite superior del intervalo </br>\n",
    "```n``` -> Número de intervalos </br>\n",
    "```f``` -> Función a evaluar </br>\n",
    "```x``` -> se encarga de generar los valores de x en dependencia del intervalo\n",
    "\n",
    "```i_trap``` -> Resultado </br>"
   ]
  },
  {
   "cell_type": "markdown",
   "metadata": {},
   "source": [
    "#### Inserción de datos:"
   ]
  },
  {
   "cell_type": "code",
   "execution_count": 17,
   "metadata": {},
   "outputs": [],
   "source": [
    "a = 0\n",
    "b = np.pi\n",
    "n = 10000\n",
    "h = (b - a) / (n - 1)\n",
    "x = np.linspace(a, b, n)\n",
    "f = np.sin(x)"
   ]
  },
  {
   "cell_type": "markdown",
   "metadata": {},
   "source": [
    "#### Salida:"
   ]
  },
  {
   "cell_type": "code",
   "execution_count": 18,
   "metadata": {
    "tags": []
   },
   "outputs": [
    {
     "name": "stdout",
     "output_type": "stream",
     "text": [
      "1.9999999835473732\n"
     ]
    }
   ],
   "source": [
    "i_trap = (h / 2) * (f[0] + 2 * sum(f[1:n - 1] ) + f[n - 1] )\n",
    "\n",
    "print(i_trap)"
   ]
  },
  {
   "cell_type": "code",
   "execution_count": null,
   "metadata": {},
   "outputs": [],
   "source": []
  }
 ],
 "metadata": {
  "interpreter": {
   "hash": "5f1e2b7debabb81cfddc515bc2208cf2c521bebfebb13da0ee988ea546d02c25"
  },
  "kernelspec": {
   "display_name": "Python 3 (ipykernel)",
   "language": "python",
   "name": "python3"
  },
  "language_info": {
   "codemirror_mode": {
    "name": "ipython",
    "version": 3
   },
   "file_extension": ".py",
   "mimetype": "text/x-python",
   "name": "python",
   "nbconvert_exporter": "python",
   "pygments_lexer": "ipython3",
   "version": "3.11.4"
  }
 },
 "nbformat": 4,
 "nbformat_minor": 4
}
