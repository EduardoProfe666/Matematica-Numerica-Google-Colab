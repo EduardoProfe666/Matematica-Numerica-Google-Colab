{
  "cells": [
    {
      "cell_type": "code",
      "execution_count": 1,
      "metadata": {
        "id": "uVt_OUxRt7Um"
      },
      "outputs": [],
      "source": [
        "from numpy import array, absolute, zeros, copy\n",
        "import pandas as pd"
      ]
    },
    {
      "cell_type": "markdown",
      "metadata": {
        "id": "Sf_iiMtet7Uq"
      },
      "source": [
        "# Algoritmo de Gauss-Seidel\n",
        "\n",
        "Algoritmo utilizado para hallar solución a sistemas lineales de orden $n$ en la forma $AX = B$ con error menor que $\\varepsilon$\n",
        "\n"
      ]
    },
    {
      "cell_type": "markdown",
      "metadata": {
        "id": "G_amtT-yt7U3"
      },
      "source": [
        "## Implementación"
      ]
    },
    {
      "cell_type": "markdown",
      "source": [
        "### Clase Auxiliar de Resultado de Seidel"
      ],
      "metadata": {
        "id": "PxsUjhZW2fkk"
      }
    },
    {
      "cell_type": "code",
      "source": [
        "class ResultadoSeidel:\n",
        "    def __init__(self):\n",
        "        self.lista_x = []\n",
        "        self.delta = 0\n",
        "        self.error = 0\n",
        "        self.iteracion_0 = False"
      ],
      "metadata": {
        "id": "2DULtqU82nW_"
      },
      "execution_count": 2,
      "outputs": []
    },
    {
      "cell_type": "markdown",
      "source": [
        "### Algoritmo de Gauss-Seidel"
      ],
      "metadata": {
        "id": "wPY995nz2rG4"
      }
    },
    {
      "cell_type": "markdown",
      "metadata": {
        "id": "F_n-SSG2t7U4"
      },
      "source": [
        "``` gauss_seidel(a, b, x0, f_convergencia, tol, max_iter): ``` Implementación del algoritmo de Seidel para hallar solución a sistemas de ecuaciones lineales\n",
        "\n",
        "##### Parámetros\n",
        "\n",
        "- ``` a ``` : matriz de los coeficientes $A$\n",
        "- ``` b ``` : matriz de los términos independientes $B$\n",
        "- ``` x0 ``` : matriz columna que representa los valores estimados de solución (se puede utilizar la matriz trivial)\n",
        "- ``` f_convergencia ``` : define el factor de convergencia de la matriz $A$\n",
        "- ``` tol ``` : Cota para el error absoluto\n",
        "- ``` max_iter ```: Cantidad máxima de iteraciones"
      ]
    },
    {
      "cell_type": "code",
      "execution_count": 3,
      "metadata": {
        "id": "WHCxkbmEt7U5"
      },
      "outputs": [],
      "source": [
        "def gauss_seidel(a, b, x0, f_convergencia, tol, max_iter):\n",
        "    count = 1\n",
        "    result = copy(x0)\n",
        "    error = zeros(a.shape[1])\n",
        "    condition = True\n",
        "    retorno = []\n",
        "    r = ResultadoSeidel()\n",
        "\n",
        "    r.iteracion_0 = True\n",
        "    r.lista_x = error.tolist()\n",
        "    retorno.append(r)\n",
        "\n",
        "    while condition:\n",
        "        r = ResultadoSeidel()\n",
        "        for i in range(a.shape[0]):\n",
        "            value_temp = 0\n",
        "            for j in range(a.shape[1]):\n",
        "                if i == j:\n",
        "                    value_temp += b[i] / a[i][j]\n",
        "                else:\n",
        "                    value_temp += -a[i][j] / a[i][i] * result[j]\n",
        "            error[i] = abs(result[i] - value_temp)\n",
        "            result[i] = value_temp\n",
        "\n",
        "        r.lista_x = result.tolist()\n",
        "        r.delta = max(error)\n",
        "        r.error = max(error)*abs(f_convergencia / (1 - f_convergencia))\n",
        "        retorno.append(r)\n",
        "\n",
        "        count += 1\n",
        "        condition = max(error) > tol and count <= max_iter\n",
        "\n",
        "    return retorno"
      ]
    },
    {
      "cell_type": "markdown",
      "metadata": {
        "id": "dtmypTqZt7U7"
      },
      "source": [
        "### Hallar factor de convergencia $\\beta$\n",
        "\n",
        "``` hallar_factor_convergencia(a): ``` Halla el factor de convergencia $\\beta$ de la matriz $A$\n",
        "\n",
        "##### Parámetros\n",
        "``` a ``` : matriz de los coeficientes $A$"
      ]
    },
    {
      "cell_type": "code",
      "execution_count": 4,
      "metadata": {
        "id": "ieNjMHfat7U7"
      },
      "outputs": [],
      "source": [
        "def hallar_factor_convergencia(a):\n",
        "    a = absolute(a)\n",
        "    result = []\n",
        "\n",
        "    for i in range(a.shape[0]):\n",
        "        total_fila = sum(a[i])\n",
        "\n",
        "        if total_fila - a[i][i] < 0:\n",
        "            raise Exception(\"El factor de convergencia de la matriz tiene que ser mayor que 0\")\n",
        "\n",
        "        q = 0\n",
        "        p = 0\n",
        "        for j in range(a.shape[1]):\n",
        "            if i > j:\n",
        "                p += a[i][j] / a[i][i]\n",
        "            elif i < j:\n",
        "                q += a[i][j] / a[i][i]\n",
        "\n",
        "        result.append(q / (1 - p))\n",
        "\n",
        "    return max(result)"
      ]
    },
    {
      "cell_type": "markdown",
      "source": [
        "### Determinar matriz con diagonal predominante"
      ],
      "metadata": {
        "id": "pIktEtPg3pxe"
      }
    },
    {
      "cell_type": "markdown",
      "source": [
        "``` determinar_matriz_diagonal_predominante(a): ``` Determinar si la matriz $A$ tiene diagonal predominante\n",
        "\n",
        "##### Parámetros\n",
        "- ``` a ``` : matriz de los coeficientes $A$"
      ],
      "metadata": {
        "id": "QmtKbTlf3yGY"
      }
    },
    {
      "cell_type": "code",
      "source": [
        "def determinar_matriz_diagonal_predominante(a):\n",
        "    m = absolute(a)\n",
        "    for i in range(len(m)):\n",
        "        x = m[i][i]\n",
        "        total = sum(m[i]) - x\n",
        "        if x <= total:\n",
        "            return False\n",
        "\n",
        "    return True"
      ],
      "metadata": {
        "id": "UVgwq5yY31kq"
      },
      "execution_count": 5,
      "outputs": []
    },
    {
      "cell_type": "markdown",
      "source": [
        "### Convertir matriz con diagonal predominante (Por Implementar)"
      ],
      "metadata": {
        "id": "T0NZvB1Q36Do"
      }
    },
    {
      "cell_type": "markdown",
      "source": [
        "``` convertir_matriz_diagonal_predominante(a,b): ``` Transformar la matriz $A$ para que tenga diagonal predominante\n",
        "\n",
        "##### Parámetros\n",
        "- ``` a ``` : matriz de los coeficientes $A$\n",
        "- ``` b ``` : matriz de los coeficientes $B$"
      ],
      "metadata": {
        "id": "X2W8Sc0L4FsN"
      }
    },
    {
      "cell_type": "code",
      "source": [
        "# Por Implementar\n",
        "# Modifica directamente los numpy.array pasados"
      ],
      "metadata": {
        "id": "D6yNmKsm4pSO"
      },
      "execution_count": 6,
      "outputs": []
    },
    {
      "cell_type": "markdown",
      "source": [
        "### Convertir a matriz $M$ (Por Implementar)"
      ],
      "metadata": {
        "id": "UDwHJ1Lj4s1g"
      }
    },
    {
      "cell_type": "markdown",
      "source": [
        "``` convertir_matriz_m(a): ``` Convertir a la matriz $M$ de la forma $X=MX+C$\n",
        "\n",
        "##### Parámetros\n",
        "- ``` a ``` : matriz de los coeficientes $A$"
      ],
      "metadata": {
        "id": "QcTxpRvp5Gyf"
      }
    },
    {
      "cell_type": "code",
      "source": [
        "# Por Implementar\n",
        "# Devuelve un numpy.array"
      ],
      "metadata": {
        "id": "FTxnp1qf5Jo6"
      },
      "execution_count": 7,
      "outputs": []
    },
    {
      "cell_type": "markdown",
      "source": [
        "### Convertir a matriz $C$ (Por Implementar)"
      ],
      "metadata": {
        "id": "anUNRDzF5L2I"
      }
    },
    {
      "cell_type": "markdown",
      "source": [
        "``` convertir_matriz_c(b): ``` Convertir a la matriz $C$ de la forma $X=MX+C$\n",
        "\n",
        "##### Parámetros\n",
        "- ``` b ``` : matriz de los términos independientes $B$"
      ],
      "metadata": {
        "id": "fRn6FAjA5Ub0"
      }
    },
    {
      "cell_type": "code",
      "source": [
        "# Por Implementar\n",
        "# Devuelve un numpy.array"
      ],
      "metadata": {
        "id": "leveGb5q5RYE"
      },
      "execution_count": 8,
      "outputs": []
    },
    {
      "cell_type": "markdown",
      "source": [
        "### Métodos Auxiliares"
      ],
      "metadata": {
        "id": "jzbOst3k5c8s"
      }
    },
    {
      "cell_type": "code",
      "source": [
        "def hallar_f_convergencia_error(f_convergencia):\n",
        "    return abs(f_convergencia / (1 - f_convergencia))\n",
        "\n",
        "\n",
        "def convertir_headers_resultados(lista_resultados_seidel):\n",
        "    lista = []\n",
        "\n",
        "    r = lista_resultados_seidel[0]\n",
        "    for i in range(len(r.lista_x)):\n",
        "        lista.append(f'X{i + 1}')\n",
        "    lista.append('Delta(δ)')\n",
        "    lista.append('Error')\n",
        "\n",
        "    return lista\n",
        "\n",
        "\n",
        "def convertir_resultados(lista_resultados_seidel):\n",
        "    lista = []\n",
        "    for r in lista_resultados_seidel:\n",
        "        l = []\n",
        "        if r.iteracion_0:\n",
        "            for x in r.lista_x:\n",
        "                l.append(x)\n",
        "            l.append('-------')\n",
        "            l.append('-------')\n",
        "        else:\n",
        "            for x in r.lista_x:\n",
        "                l.append(x)\n",
        "            l.append('{:.7f}'.format(r.delta))\n",
        "            l.append('{:.7f}'.format(r.error))\n",
        "\n",
        "        lista.append(l)\n",
        "\n",
        "    df = pd.DataFrame(data=lista, columns=convertir_headers_resultados(lista_resultados_seidel))\n",
        "    df.index.name = 'Iteración'\n",
        "    return df"
      ],
      "metadata": {
        "id": "WEPDogVl5hIW"
      },
      "execution_count": 9,
      "outputs": []
    },
    {
      "cell_type": "markdown",
      "source": [
        "## Inserción de datos"
      ],
      "metadata": {
        "id": "8CxEdgId5tW-"
      }
    },
    {
      "cell_type": "markdown",
      "metadata": {
        "id": "JbP7yjsFt7U8"
      },
      "source": [
        "#### Datos\n",
        "\n",
        "- ``` a ``` : matriz de los coeficientes $A$\n",
        "- ``` b ``` : matriz de los términos independientes $B$\n",
        "- ``` x0 ``` : matriz columna que representa los valores estimados de solución (se puede utilizar la matriz trivial)\n",
        "- ``` tol ``` : Cota para el error absoluto\n",
        "- ``` max_iter ```: Cantidad máxima de iteraciones\n",
        "- ``` f_convergencia ``` : define el factor de convergencia de la matriz $A$"
      ]
    },
    {
      "cell_type": "code",
      "execution_count": 10,
      "metadata": {
        "id": "mnpEWdSat7U8"
      },
      "outputs": [],
      "source": [
        "a = array([[5, -1, 1],\n",
        "           [2, 5, -1],\n",
        "           [-1, 1, 5]])\n",
        "\n",
        "b = array([10, 12, 10])\n",
        "\n",
        "# No cambiar el argumento dtype para el correcto funcionamiento del algoritmo\n",
        "x0 = array([0, 0, 0], dtype=float)\n",
        "\n",
        "tol = 0.005\n",
        "\n",
        "max_iter = 100\n",
        "\n",
        "f_convergencia = hallar_factor_convergencia(a)"
      ]
    },
    {
      "cell_type": "markdown",
      "metadata": {
        "id": "j4n6GEHpt7VG"
      },
      "source": [
        "## Salida de datos"
      ]
    },
    {
      "cell_type": "markdown",
      "source": [
        "### Matriz con Diagonal Predominante"
      ],
      "metadata": {
        "id": "zhdRl2kN6W86"
      }
    },
    {
      "cell_type": "code",
      "source": [
        "if not determinar_matriz_diagonal_predominante(a):\n",
        "  print('La matriz proporcionada NO tiene diagonal predominante.')\n",
        "  print('Luego de las transformaciones la matriz A queda:')\n",
        "  # Por implementar\n",
        "  print('Luego de las transformaciones la matriz B queda:')\n",
        "  # Por implementar\n",
        "else:\n",
        "  print('La matriz tiene diagonal predominante')"
      ],
      "metadata": {
        "colab": {
          "base_uri": "https://localhost:8080/"
        },
        "id": "xgtQ7SFF6dKa",
        "outputId": "a21ef642-b0b2-4ba9-caa0-1425cd077f76"
      },
      "execution_count": 11,
      "outputs": [
        {
          "output_type": "stream",
          "name": "stdout",
          "text": [
            "La matriz tiene diagonal predominante\n"
          ]
        }
      ]
    },
    {
      "cell_type": "markdown",
      "source": [
        "### Factor de Convergencia $\\beta$"
      ],
      "metadata": {
        "id": "TwTftD_y6gm1"
      }
    },
    {
      "cell_type": "code",
      "source": [
        "print(f'El factor de convergencia es {hallar_factor_convergencia(a)}')\n",
        "print('β/(1-β) = {:.5f}\\n'.format(hallar_f_convergencia_error(hallar_factor_convergencia(a))))"
      ],
      "metadata": {
        "colab": {
          "base_uri": "https://localhost:8080/"
        },
        "id": "CXpCo4Ab7Z3u",
        "outputId": "6241af11-61bb-47f2-8f40-91e4e2b47b85"
      },
      "execution_count": 12,
      "outputs": [
        {
          "output_type": "stream",
          "name": "stdout",
          "text": [
            "El factor de convergencia es 0.4\n",
            "β/(1-β) = 0.66667\n",
            "\n"
          ]
        }
      ]
    },
    {
      "cell_type": "markdown",
      "source": [
        "### Conversión de $AX=B$ a la forma $X=MX+C$"
      ],
      "metadata": {
        "id": "zErEzUHx7eUq"
      }
    },
    {
      "cell_type": "markdown",
      "source": [
        "#### Matriz $M$"
      ],
      "metadata": {
        "id": "GQO-3lHw7frQ"
      }
    },
    {
      "cell_type": "code",
      "source": [
        "# m = pd.DataFrame(data=convertir_matriz_m(a))\n",
        "# m"
      ],
      "metadata": {
        "id": "B5PAtbEt7mYN"
      },
      "execution_count": 13,
      "outputs": []
    },
    {
      "cell_type": "markdown",
      "source": [
        "#### Matriz $C$"
      ],
      "metadata": {
        "id": "thSl9D_x7j-R"
      }
    },
    {
      "cell_type": "code",
      "source": [
        "# m = pd.DataFrame(data=convertir_matriz_m(b))\n",
        "# m"
      ],
      "metadata": {
        "id": "WylrU_4D7pE7"
      },
      "execution_count": 14,
      "outputs": []
    },
    {
      "cell_type": "markdown",
      "source": [
        "### Resultados de la aplicación del método de Gauss-Seidel"
      ],
      "metadata": {
        "id": "rvKU5oDT7tlA"
      }
    },
    {
      "cell_type": "code",
      "source": [
        "r = gauss_seidel(a, b, x0, f_convergencia, tol, max_iter)\n",
        "df = convertir_resultados(r)\n",
        "df"
      ],
      "metadata": {
        "colab": {
          "base_uri": "https://localhost:8080/",
          "height": 269
        },
        "id": "9wr3qKsO7yPb",
        "outputId": "933a8fbb-dd6a-4bc8-a505-ced57f66d7ac"
      },
      "execution_count": 15,
      "outputs": [
        {
          "output_type": "execute_result",
          "data": {
            "text/plain": [
              "                 X1        X2        X3   Delta(δ)      Error\n",
              "Iteración                                                    \n",
              "0          0.000000  0.000000  0.000000    -------    -------\n",
              "1          2.000000  1.600000  2.080000  2.0800000  1.3866667\n",
              "2          1.904000  2.054400  1.969920  0.4544000  0.3029333\n",
              "3          2.016896  1.987226  2.005934  0.1128960  0.0752640\n",
              "4          1.996258  2.002683  1.998715  0.0206377  0.0137585\n",
              "5          2.000794  1.999426  2.000274  0.0045354  0.0030236"
            ],
            "text/html": [
              "\n",
              "  <div id=\"df-08c7dad9-b2a9-4280-8887-c7863fee2d69\" class=\"colab-df-container\">\n",
              "    <div>\n",
              "<style scoped>\n",
              "    .dataframe tbody tr th:only-of-type {\n",
              "        vertical-align: middle;\n",
              "    }\n",
              "\n",
              "    .dataframe tbody tr th {\n",
              "        vertical-align: top;\n",
              "    }\n",
              "\n",
              "    .dataframe thead th {\n",
              "        text-align: right;\n",
              "    }\n",
              "</style>\n",
              "<table border=\"1\" class=\"dataframe\">\n",
              "  <thead>\n",
              "    <tr style=\"text-align: right;\">\n",
              "      <th></th>\n",
              "      <th>X1</th>\n",
              "      <th>X2</th>\n",
              "      <th>X3</th>\n",
              "      <th>Delta(δ)</th>\n",
              "      <th>Error</th>\n",
              "    </tr>\n",
              "    <tr>\n",
              "      <th>Iteración</th>\n",
              "      <th></th>\n",
              "      <th></th>\n",
              "      <th></th>\n",
              "      <th></th>\n",
              "      <th></th>\n",
              "    </tr>\n",
              "  </thead>\n",
              "  <tbody>\n",
              "    <tr>\n",
              "      <th>0</th>\n",
              "      <td>0.000000</td>\n",
              "      <td>0.000000</td>\n",
              "      <td>0.000000</td>\n",
              "      <td>-------</td>\n",
              "      <td>-------</td>\n",
              "    </tr>\n",
              "    <tr>\n",
              "      <th>1</th>\n",
              "      <td>2.000000</td>\n",
              "      <td>1.600000</td>\n",
              "      <td>2.080000</td>\n",
              "      <td>2.0800000</td>\n",
              "      <td>1.3866667</td>\n",
              "    </tr>\n",
              "    <tr>\n",
              "      <th>2</th>\n",
              "      <td>1.904000</td>\n",
              "      <td>2.054400</td>\n",
              "      <td>1.969920</td>\n",
              "      <td>0.4544000</td>\n",
              "      <td>0.3029333</td>\n",
              "    </tr>\n",
              "    <tr>\n",
              "      <th>3</th>\n",
              "      <td>2.016896</td>\n",
              "      <td>1.987226</td>\n",
              "      <td>2.005934</td>\n",
              "      <td>0.1128960</td>\n",
              "      <td>0.0752640</td>\n",
              "    </tr>\n",
              "    <tr>\n",
              "      <th>4</th>\n",
              "      <td>1.996258</td>\n",
              "      <td>2.002683</td>\n",
              "      <td>1.998715</td>\n",
              "      <td>0.0206377</td>\n",
              "      <td>0.0137585</td>\n",
              "    </tr>\n",
              "    <tr>\n",
              "      <th>5</th>\n",
              "      <td>2.000794</td>\n",
              "      <td>1.999426</td>\n",
              "      <td>2.000274</td>\n",
              "      <td>0.0045354</td>\n",
              "      <td>0.0030236</td>\n",
              "    </tr>\n",
              "  </tbody>\n",
              "</table>\n",
              "</div>\n",
              "    <div class=\"colab-df-buttons\">\n",
              "\n",
              "  <div class=\"colab-df-container\">\n",
              "    <button class=\"colab-df-convert\" onclick=\"convertToInteractive('df-08c7dad9-b2a9-4280-8887-c7863fee2d69')\"\n",
              "            title=\"Convert this dataframe to an interactive table.\"\n",
              "            style=\"display:none;\">\n",
              "\n",
              "  <svg xmlns=\"http://www.w3.org/2000/svg\" height=\"24px\" viewBox=\"0 -960 960 960\">\n",
              "    <path d=\"M120-120v-720h720v720H120Zm60-500h600v-160H180v160Zm220 220h160v-160H400v160Zm0 220h160v-160H400v160ZM180-400h160v-160H180v160Zm440 0h160v-160H620v160ZM180-180h160v-160H180v160Zm440 0h160v-160H620v160Z\"/>\n",
              "  </svg>\n",
              "    </button>\n",
              "\n",
              "  <style>\n",
              "    .colab-df-container {\n",
              "      display:flex;\n",
              "      gap: 12px;\n",
              "    }\n",
              "\n",
              "    .colab-df-convert {\n",
              "      background-color: #E8F0FE;\n",
              "      border: none;\n",
              "      border-radius: 50%;\n",
              "      cursor: pointer;\n",
              "      display: none;\n",
              "      fill: #1967D2;\n",
              "      height: 32px;\n",
              "      padding: 0 0 0 0;\n",
              "      width: 32px;\n",
              "    }\n",
              "\n",
              "    .colab-df-convert:hover {\n",
              "      background-color: #E2EBFA;\n",
              "      box-shadow: 0px 1px 2px rgba(60, 64, 67, 0.3), 0px 1px 3px 1px rgba(60, 64, 67, 0.15);\n",
              "      fill: #174EA6;\n",
              "    }\n",
              "\n",
              "    .colab-df-buttons div {\n",
              "      margin-bottom: 4px;\n",
              "    }\n",
              "\n",
              "    [theme=dark] .colab-df-convert {\n",
              "      background-color: #3B4455;\n",
              "      fill: #D2E3FC;\n",
              "    }\n",
              "\n",
              "    [theme=dark] .colab-df-convert:hover {\n",
              "      background-color: #434B5C;\n",
              "      box-shadow: 0px 1px 3px 1px rgba(0, 0, 0, 0.15);\n",
              "      filter: drop-shadow(0px 1px 2px rgba(0, 0, 0, 0.3));\n",
              "      fill: #FFFFFF;\n",
              "    }\n",
              "  </style>\n",
              "\n",
              "    <script>\n",
              "      const buttonEl =\n",
              "        document.querySelector('#df-08c7dad9-b2a9-4280-8887-c7863fee2d69 button.colab-df-convert');\n",
              "      buttonEl.style.display =\n",
              "        google.colab.kernel.accessAllowed ? 'block' : 'none';\n",
              "\n",
              "      async function convertToInteractive(key) {\n",
              "        const element = document.querySelector('#df-08c7dad9-b2a9-4280-8887-c7863fee2d69');\n",
              "        const dataTable =\n",
              "          await google.colab.kernel.invokeFunction('convertToInteractive',\n",
              "                                                    [key], {});\n",
              "        if (!dataTable) return;\n",
              "\n",
              "        const docLinkHtml = 'Like what you see? Visit the ' +\n",
              "          '<a target=\"_blank\" href=https://colab.research.google.com/notebooks/data_table.ipynb>data table notebook</a>'\n",
              "          + ' to learn more about interactive tables.';\n",
              "        element.innerHTML = '';\n",
              "        dataTable['output_type'] = 'display_data';\n",
              "        await google.colab.output.renderOutput(dataTable, element);\n",
              "        const docLink = document.createElement('div');\n",
              "        docLink.innerHTML = docLinkHtml;\n",
              "        element.appendChild(docLink);\n",
              "      }\n",
              "    </script>\n",
              "  </div>\n",
              "\n",
              "\n",
              "<div id=\"df-783cfc35-54ca-43da-b6ff-964c51721e0b\">\n",
              "  <button class=\"colab-df-quickchart\" onclick=\"quickchart('df-783cfc35-54ca-43da-b6ff-964c51721e0b')\"\n",
              "            title=\"Suggest charts.\"\n",
              "            style=\"display:none;\">\n",
              "\n",
              "<svg xmlns=\"http://www.w3.org/2000/svg\" height=\"24px\"viewBox=\"0 0 24 24\"\n",
              "     width=\"24px\">\n",
              "    <g>\n",
              "        <path d=\"M19 3H5c-1.1 0-2 .9-2 2v14c0 1.1.9 2 2 2h14c1.1 0 2-.9 2-2V5c0-1.1-.9-2-2-2zM9 17H7v-7h2v7zm4 0h-2V7h2v10zm4 0h-2v-4h2v4z\"/>\n",
              "    </g>\n",
              "</svg>\n",
              "  </button>\n",
              "\n",
              "<style>\n",
              "  .colab-df-quickchart {\n",
              "      --bg-color: #E8F0FE;\n",
              "      --fill-color: #1967D2;\n",
              "      --hover-bg-color: #E2EBFA;\n",
              "      --hover-fill-color: #174EA6;\n",
              "      --disabled-fill-color: #AAA;\n",
              "      --disabled-bg-color: #DDD;\n",
              "  }\n",
              "\n",
              "  [theme=dark] .colab-df-quickchart {\n",
              "      --bg-color: #3B4455;\n",
              "      --fill-color: #D2E3FC;\n",
              "      --hover-bg-color: #434B5C;\n",
              "      --hover-fill-color: #FFFFFF;\n",
              "      --disabled-bg-color: #3B4455;\n",
              "      --disabled-fill-color: #666;\n",
              "  }\n",
              "\n",
              "  .colab-df-quickchart {\n",
              "    background-color: var(--bg-color);\n",
              "    border: none;\n",
              "    border-radius: 50%;\n",
              "    cursor: pointer;\n",
              "    display: none;\n",
              "    fill: var(--fill-color);\n",
              "    height: 32px;\n",
              "    padding: 0;\n",
              "    width: 32px;\n",
              "  }\n",
              "\n",
              "  .colab-df-quickchart:hover {\n",
              "    background-color: var(--hover-bg-color);\n",
              "    box-shadow: 0 1px 2px rgba(60, 64, 67, 0.3), 0 1px 3px 1px rgba(60, 64, 67, 0.15);\n",
              "    fill: var(--button-hover-fill-color);\n",
              "  }\n",
              "\n",
              "  .colab-df-quickchart-complete:disabled,\n",
              "  .colab-df-quickchart-complete:disabled:hover {\n",
              "    background-color: var(--disabled-bg-color);\n",
              "    fill: var(--disabled-fill-color);\n",
              "    box-shadow: none;\n",
              "  }\n",
              "\n",
              "  .colab-df-spinner {\n",
              "    border: 2px solid var(--fill-color);\n",
              "    border-color: transparent;\n",
              "    border-bottom-color: var(--fill-color);\n",
              "    animation:\n",
              "      spin 1s steps(1) infinite;\n",
              "  }\n",
              "\n",
              "  @keyframes spin {\n",
              "    0% {\n",
              "      border-color: transparent;\n",
              "      border-bottom-color: var(--fill-color);\n",
              "      border-left-color: var(--fill-color);\n",
              "    }\n",
              "    20% {\n",
              "      border-color: transparent;\n",
              "      border-left-color: var(--fill-color);\n",
              "      border-top-color: var(--fill-color);\n",
              "    }\n",
              "    30% {\n",
              "      border-color: transparent;\n",
              "      border-left-color: var(--fill-color);\n",
              "      border-top-color: var(--fill-color);\n",
              "      border-right-color: var(--fill-color);\n",
              "    }\n",
              "    40% {\n",
              "      border-color: transparent;\n",
              "      border-right-color: var(--fill-color);\n",
              "      border-top-color: var(--fill-color);\n",
              "    }\n",
              "    60% {\n",
              "      border-color: transparent;\n",
              "      border-right-color: var(--fill-color);\n",
              "    }\n",
              "    80% {\n",
              "      border-color: transparent;\n",
              "      border-right-color: var(--fill-color);\n",
              "      border-bottom-color: var(--fill-color);\n",
              "    }\n",
              "    90% {\n",
              "      border-color: transparent;\n",
              "      border-bottom-color: var(--fill-color);\n",
              "    }\n",
              "  }\n",
              "</style>\n",
              "\n",
              "  <script>\n",
              "    async function quickchart(key) {\n",
              "      const quickchartButtonEl =\n",
              "        document.querySelector('#' + key + ' button');\n",
              "      quickchartButtonEl.disabled = true;  // To prevent multiple clicks.\n",
              "      quickchartButtonEl.classList.add('colab-df-spinner');\n",
              "      try {\n",
              "        const charts = await google.colab.kernel.invokeFunction(\n",
              "            'suggestCharts', [key], {});\n",
              "      } catch (error) {\n",
              "        console.error('Error during call to suggestCharts:', error);\n",
              "      }\n",
              "      quickchartButtonEl.classList.remove('colab-df-spinner');\n",
              "      quickchartButtonEl.classList.add('colab-df-quickchart-complete');\n",
              "    }\n",
              "    (() => {\n",
              "      let quickchartButtonEl =\n",
              "        document.querySelector('#df-783cfc35-54ca-43da-b6ff-964c51721e0b button');\n",
              "      quickchartButtonEl.style.display =\n",
              "        google.colab.kernel.accessAllowed ? 'block' : 'none';\n",
              "    })();\n",
              "  </script>\n",
              "</div>\n",
              "    </div>\n",
              "  </div>\n"
            ]
          },
          "metadata": {},
          "execution_count": 15
        }
      ]
    }
  ],
  "metadata": {
    "interpreter": {
      "hash": "50a1c7f7f999c358e0b5259763df47a04f976b7989cc44fe344baf2ec3d120ee"
    },
    "kernelspec": {
      "display_name": "Python 3 (ipykernel)",
      "language": "python",
      "name": "python3"
    },
    "language_info": {
      "codemirror_mode": {
        "name": "ipython",
        "version": 3
      },
      "file_extension": ".py",
      "mimetype": "text/x-python",
      "name": "python",
      "nbconvert_exporter": "python",
      "pygments_lexer": "ipython3",
      "version": "3.11.4"
    },
    "colab": {
      "provenance": []
    }
  },
  "nbformat": 4,
  "nbformat_minor": 0
}