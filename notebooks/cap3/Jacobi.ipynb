{
  "cells": [
    {
      "cell_type": "markdown",
      "metadata": {
        "id": "view-in-github",
        "colab_type": "text"
      },
      "source": [
        "<a href=\"https://colab.research.google.com/github/EduardoProfe666/Matematica-Numerica-Google-Colab/blob/main/notebooks/cap3/Jacobi.ipynb\" target=\"_parent\"><img src=\"https://colab.research.google.com/assets/colab-badge.svg\" alt=\"Open In Colab\"/></a>"
      ]
    },
    {
      "cell_type": "code",
      "execution_count": 1,
      "metadata": {
        "id": "svO1bNjTfjWA"
      },
      "outputs": [],
      "source": [
        "from numpy import array, absolute, copy, zeros\n",
        "import pandas as pd"
      ]
    },
    {
      "cell_type": "markdown",
      "metadata": {
        "id": "lrCAj5MmfjWF"
      },
      "source": [
        "# Algoritmo de Jacobi\n",
        "\n",
        "Algoritmo utilizado para hallar solución a sistemas lineales de orden $n$ en la forma $AX = B$ con error menor que $\\varepsilon$\n"
      ]
    },
    {
      "cell_type": "markdown",
      "metadata": {
        "id": "rDAsYnrKfjWI"
      },
      "source": [
        "## Implementación"
      ]
    },
    {
      "cell_type": "markdown",
      "source": [
        "### Clase Auxiliar de Resultado de Jacobi"
      ],
      "metadata": {
        "id": "rU0rineQW2As"
      }
    },
    {
      "cell_type": "code",
      "source": [
        "class ResultadoJacobi:\n",
        "    def __init__(self):\n",
        "        self.lista_x = []\n",
        "        self.sigma = 0\n",
        "        self.error = 0\n",
        "        self.iteracion_0 = False"
      ],
      "metadata": {
        "id": "d5XZ2LzwW63y"
      },
      "execution_count": 2,
      "outputs": []
    },
    {
      "cell_type": "markdown",
      "source": [
        "### Algoritmo de Jacobi\n"
      ],
      "metadata": {
        "id": "0f_xEuDCXh-F"
      }
    },
    {
      "cell_type": "markdown",
      "source": [
        "``` jacobi(a, b, x0, f_convergencia, tol, max_iter): ``` Implementación del algoritmo de Jacobi para hallar solución a sistemas de ecuaciones lineales\n",
        "\n",
        "##### Parámetros\n",
        "\n",
        "- ``` a ``` : matriz de los coeficientes $A$\n",
        "- ``` b ``` : matriz de los términos independientes $B$\n",
        "- ``` x0 ``` : matriz columna que representa los valores estimados de solución (se puede utilizar la matriz trivial)\n",
        "- ``` f_convergencia ``` : define el factor de convergencia de la matriz $A$\n",
        "- ``` tol ``` : Cota para el error absoluto\n",
        "- ``` max_iter ```: Cantidad máxima de iteraciones"
      ],
      "metadata": {
        "id": "mHY2L0EwWt9w"
      }
    },
    {
      "cell_type": "code",
      "execution_count": 3,
      "metadata": {
        "id": "4YfILBK4fjWJ"
      },
      "outputs": [],
      "source": [
        "def jacobi(a, b, x0, f_convergencia, tol, max_iter):\n",
        "    xv = copy(x0)\n",
        "    xa = zeros(b.shape[0])\n",
        "    condition = True\n",
        "    step = 1\n",
        "    retorno = []\n",
        "    r = ResultadoJacobi()\n",
        "\n",
        "    r.iteracion_0 = True\n",
        "    r.lista_x = xv.tolist()\n",
        "    retorno.append(r)\n",
        "\n",
        "    while condition:\n",
        "        r = ResultadoJacobi()\n",
        "        error = 0\n",
        "\n",
        "        for i in range(a.shape[0]):\n",
        "            xa[i] = b[i]\n",
        "\n",
        "            for j in range(a.shape[1]):\n",
        "                if j != i:\n",
        "                    xa[i] -= a[i][j] * xv[j]\n",
        "\n",
        "            xa[i] /= a[i][i]\n",
        "\n",
        "            if abs(xa[i] - xv[i]) > error:\n",
        "                error = abs(xa[i] - xv[i])\n",
        "\n",
        "        r.sigma = error\n",
        "        error *= abs(f_convergencia / (1 - f_convergencia))\n",
        "        r.error = error\n",
        "        r.lista_x = xa.tolist()\n",
        "        retorno.append(r)\n",
        "\n",
        "        xv = copy(xa)\n",
        "        step += 1\n",
        "        condition = error > tol and step <= max_iter\n",
        "\n",
        "    return retorno"
      ]
    },
    {
      "cell_type": "markdown",
      "source": [
        "### Hallar factor de convergencia $\\alpha$"
      ],
      "metadata": {
        "id": "8iE1X84jXuza"
      }
    },
    {
      "cell_type": "markdown",
      "metadata": {
        "id": "fEfBlblZfjWK"
      },
      "source": [
        "``` hallar_factor_convergencia(a): ``` Halla el factor de convergencia $\\alpha$ de la matriz $A$\n",
        "\n",
        "##### Parámetros\n",
        "- ``` a ``` : matriz de los coeficientes $A$"
      ]
    },
    {
      "cell_type": "code",
      "execution_count": 4,
      "metadata": {
        "id": "H2f0Fh78fjWL"
      },
      "outputs": [],
      "source": [
        "def hallar_factor_convergencia(a):\n",
        "\n",
        "    a = absolute(a)\n",
        "    result = []\n",
        "\n",
        "    for i in range(len(a)):\n",
        "        total_fila = sum(a[i])\n",
        "\n",
        "        if total_fila - a[i][i] < 0:\n",
        "            raise Exception(\"El factor de convergencia de la matriz tiene que ser mayor que 0\")\n",
        "\n",
        "        result.append((total_fila - a[i][i]) / a[i][i])\n",
        "\n",
        "    return max(result)"
      ]
    },
    {
      "cell_type": "markdown",
      "source": [
        "### Determinar matriz con diagonal predominante\n"
      ],
      "metadata": {
        "id": "wOqG1NbhZMf5"
      }
    },
    {
      "cell_type": "markdown",
      "source": [
        "``` determinar_matriz_diagonal_predominante(a): ``` Determinar si la matriz $A$ tiene diagonal predominante\n",
        "\n",
        "##### Parámetros\n",
        "- ``` a ``` : matriz de los coeficientes $A$"
      ],
      "metadata": {
        "id": "hvop5ozwGnEF"
      }
    },
    {
      "cell_type": "code",
      "source": [
        "def determinar_matriz_diagonal_predominante(a):\n",
        "    m = absolute(a)\n",
        "    for i in range(len(m)):\n",
        "        x = m[i][i]\n",
        "        total = sum(m[i]) - x\n",
        "        if x <= total:\n",
        "            return False\n",
        "\n",
        "    return True"
      ],
      "metadata": {
        "id": "VV1I6P6eHLbb"
      },
      "execution_count": 5,
      "outputs": []
    },
    {
      "cell_type": "markdown",
      "source": [
        "### Convertir matriz con diagonal predominante (Por Implementar)"
      ],
      "metadata": {
        "id": "S_tU3sbok5zU"
      }
    },
    {
      "cell_type": "markdown",
      "source": [
        "``` convertir_matriz_diagonal_predominante(a,b): ``` Transformar la matriz $A$ para que tenga diagonal predominante\n",
        "\n",
        "##### Parámetros\n",
        "- ``` a ``` : matriz de los coeficientes $A$\n",
        "- ``` b ``` : matriz de los coeficientes $B$"
      ],
      "metadata": {
        "id": "m6J1QdsXmK0U"
      }
    },
    {
      "cell_type": "code",
      "source": [
        "# Por Implementar\n",
        "# Modifica directamente los numpy.array pasados"
      ],
      "metadata": {
        "id": "Yt4KJd-vmLnF"
      },
      "execution_count": 6,
      "outputs": []
    },
    {
      "cell_type": "markdown",
      "source": [
        "### Convertir a matriz $M$ (Por Implementar)"
      ],
      "metadata": {
        "id": "r_0yZWsYZaS1"
      }
    },
    {
      "cell_type": "markdown",
      "source": [
        "``` convertir_matriz_m(a): ``` Convertir a la matriz $M$ de la forma $X=MX+C$\n",
        "\n",
        "##### Parámetros\n",
        "- ``` a ``` : matriz de los coeficientes $A$"
      ],
      "metadata": {
        "id": "5Dup46PcZvW6"
      }
    },
    {
      "cell_type": "code",
      "source": [
        "# Por Implementar\n",
        "# Devuelve un numpy.array"
      ],
      "metadata": {
        "id": "0__ka1ZjZujX"
      },
      "execution_count": 7,
      "outputs": []
    },
    {
      "cell_type": "markdown",
      "source": [
        "### Convertir a matriz C (Por Implementar)"
      ],
      "metadata": {
        "id": "SNyxBFkzeIt-"
      }
    },
    {
      "cell_type": "markdown",
      "source": [
        "``` convertir_matriz_c(b): ``` Convertir a la matriz $C$ de la forma $X=MX+C$\n",
        "\n",
        "##### Parámetros\n",
        "- ``` b ``` : matriz de los términos independientes $B$"
      ],
      "metadata": {
        "id": "CpW96UMPeNqj"
      }
    },
    {
      "cell_type": "code",
      "source": [
        "# Por Implementar\n",
        "# Devuelve un numpy.array"
      ],
      "metadata": {
        "id": "s7pOZ6d7efth"
      },
      "execution_count": 8,
      "outputs": []
    },
    {
      "cell_type": "markdown",
      "source": [
        "### Métodos Auxiliares"
      ],
      "metadata": {
        "id": "3dE6i4iqEwfs"
      }
    },
    {
      "cell_type": "code",
      "source": [
        "def hallar_f_convergencia_error(f_convergencia):\n",
        "    return abs(f_convergencia / (1 - f_convergencia))\n",
        "\n",
        "\n",
        "def convertir_headers_resultados(lista_resultados_jacobi):\n",
        "    lista = []\n",
        "\n",
        "    r = lista_resultados_jacobi[0]\n",
        "    for i in range(len(r.lista_x)):\n",
        "        lista.append(f'X{i + 1}')\n",
        "    lista.append('Sigma (σ)')\n",
        "    lista.append('Error')\n",
        "\n",
        "    return lista\n",
        "\n",
        "\n",
        "def convertir_resultados(lista_resultados_jacobi):\n",
        "    lista = []\n",
        "    for r in lista_resultados_jacobi:\n",
        "        l = []\n",
        "        if r.iteracion_0:\n",
        "            for x in r.lista_x:\n",
        "                l.append(x)\n",
        "            l.append('-------')\n",
        "            l.append('-------')\n",
        "        else:\n",
        "            for x in r.lista_x:\n",
        "                l.append(x)\n",
        "            l.append('{:.7f}'.format(r.sigma))\n",
        "            l.append('{:.7f}'.format(r.error))\n",
        "\n",
        "        lista.append(l)\n",
        "\n",
        "    df = pd.DataFrame(data=lista, columns=convertir_headers_resultados(lista_resultados_jacobi))\n",
        "    df.index.name = 'Iteración'\n",
        "    return df"
      ],
      "metadata": {
        "id": "23iubeP9E5Xu"
      },
      "execution_count": 9,
      "outputs": []
    },
    {
      "cell_type": "markdown",
      "metadata": {
        "id": "UKCZQ15dfjWL"
      },
      "source": [
        "## Inserción de datos"
      ]
    },
    {
      "cell_type": "code",
      "execution_count": 10,
      "metadata": {
        "id": "ykCCUkrTfjWM"
      },
      "outputs": [],
      "source": [
        "a = array([[5, -1, 1],\n",
        "           [2, 5, -1],\n",
        "           [-1, 1, 5]])\n",
        "\n",
        "b = array([10, 12, 10])\n",
        "\n",
        "x0 = array([0, 0, 0])\n",
        "\n",
        "tol = 0.005\n",
        "\n",
        "max_iter = 100\n",
        "\n",
        "f_convergencia = hallar_factor_convergencia(a)"
      ]
    },
    {
      "cell_type": "markdown",
      "metadata": {
        "id": "yiYhUSzPfjWN"
      },
      "source": [
        "## Salida de datos"
      ]
    },
    {
      "cell_type": "markdown",
      "source": [
        "### Matriz Predominante"
      ],
      "metadata": {
        "id": "LtYt2iMXZ88g"
      }
    },
    {
      "cell_type": "code",
      "source": [
        "if not determinar_matriz_diagonal_predominante(a):\n",
        "  print('La matriz proporcionada NO tiene diagonal predominante.')\n",
        "  print('Luego de las transformaciones la matriz A queda:')\n",
        "  # Por implementar\n",
        "  print('Luego de las transformaciones la matriz B queda:')\n",
        "  # Por implementar\n",
        "else:\n",
        "  print('La matriz tiene diagonal predominante')"
      ],
      "metadata": {
        "colab": {
          "base_uri": "https://localhost:8080/"
        },
        "id": "Mdshn2gZaCki",
        "outputId": "26e9418a-6829-49fd-ac63-0e8607ded687"
      },
      "execution_count": 11,
      "outputs": [
        {
          "output_type": "stream",
          "name": "stdout",
          "text": [
            "La matriz tiene diagonal predominante\n"
          ]
        }
      ]
    },
    {
      "cell_type": "markdown",
      "source": [
        "### Factor de convergencia $\\alpha$"
      ],
      "metadata": {
        "id": "CHa7DKd9GWt_"
      }
    },
    {
      "cell_type": "code",
      "execution_count": 12,
      "metadata": {
        "tags": [],
        "id": "7B3QIZrBfjWO",
        "outputId": "47d824d5-4af5-4e14-c676-0626e17f71ae",
        "colab": {
          "base_uri": "https://localhost:8080/"
        }
      },
      "outputs": [
        {
          "output_type": "stream",
          "name": "stdout",
          "text": [
            "El factor de convergencia es 0.6\n",
            "ɑ/(1-ɑ) = 1.50000\n",
            "\n"
          ]
        }
      ],
      "source": [
        "print(f'El factor de convergencia es {hallar_factor_convergencia(a)}')\n",
        "print('ɑ/(1-ɑ) = {:.5f}\\n'.format(hallar_f_convergencia_error(hallar_factor_convergencia(a))))"
      ]
    },
    {
      "cell_type": "markdown",
      "source": [
        "### Conversión de $AX=B$ a la forma $X=MX+C$"
      ],
      "metadata": {
        "id": "1yo2hUKsafM6"
      }
    },
    {
      "cell_type": "markdown",
      "source": [
        "#### Matriz $M$"
      ],
      "metadata": {
        "id": "-dz6OZAabrAR"
      }
    },
    {
      "cell_type": "code",
      "source": [
        "# m = pd.DataFrame(data=convertir_matriz_m(a))\n",
        "# m"
      ],
      "metadata": {
        "id": "B-6Qq3RBcjDE"
      },
      "execution_count": 13,
      "outputs": []
    },
    {
      "cell_type": "markdown",
      "source": [
        "#### Matriz $C$"
      ],
      "metadata": {
        "id": "0HpOxFKacjny"
      }
    },
    {
      "cell_type": "code",
      "source": [
        "# m = pd.DataFrame(data=convertir_matriz_m(b))\n",
        "# m"
      ],
      "metadata": {
        "id": "zQIaoU5pdBQA"
      },
      "execution_count": 14,
      "outputs": []
    },
    {
      "cell_type": "markdown",
      "source": [
        "### Resultados de la aplicación del método de Jacobi"
      ],
      "metadata": {
        "id": "b-W3L8YmGrp5"
      }
    },
    {
      "cell_type": "code",
      "source": [
        "r = jacobi(a, b, x0, f_convergencia, tol, max_iter)\n",
        "df = convertir_resultados(r)\n",
        "df"
      ],
      "metadata": {
        "colab": {
          "base_uri": "https://localhost:8080/",
          "height": 331
        },
        "id": "yRi0Yx4oGH_Q",
        "outputId": "589515ce-bc7f-4d7d-f4c7-19b9a842bbfb"
      },
      "execution_count": 15,
      "outputs": [
        {
          "output_type": "execute_result",
          "data": {
            "text/plain": [
              "                 X1        X2        X3  Sigma (σ)      Error\n",
              "Iteración                                                    \n",
              "0          0.000000  0.000000  0.000000    -------    -------\n",
              "1          2.000000  2.400000  2.000000  2.4000000  3.6000000\n",
              "2          2.080000  2.000000  1.920000  0.4000000  0.6000000\n",
              "3          2.016000  1.952000  2.016000  0.0960000  0.1440000\n",
              "4          1.987200  1.996800  2.012800  0.0448000  0.0672000\n",
              "5          1.996800  2.007680  1.998080  0.0147200  0.0220800\n",
              "6          2.001920  2.000896  1.997824  0.0067840  0.0101760\n",
              "7          2.000614  1.998797  2.000205  0.0023808  0.0035712"
            ],
            "text/html": [
              "\n",
              "  <div id=\"df-beb54e9c-f933-4f7e-a3a8-f91ba09ac767\" class=\"colab-df-container\">\n",
              "    <div>\n",
              "<style scoped>\n",
              "    .dataframe tbody tr th:only-of-type {\n",
              "        vertical-align: middle;\n",
              "    }\n",
              "\n",
              "    .dataframe tbody tr th {\n",
              "        vertical-align: top;\n",
              "    }\n",
              "\n",
              "    .dataframe thead th {\n",
              "        text-align: right;\n",
              "    }\n",
              "</style>\n",
              "<table border=\"1\" class=\"dataframe\">\n",
              "  <thead>\n",
              "    <tr style=\"text-align: right;\">\n",
              "      <th></th>\n",
              "      <th>X1</th>\n",
              "      <th>X2</th>\n",
              "      <th>X3</th>\n",
              "      <th>Sigma (σ)</th>\n",
              "      <th>Error</th>\n",
              "    </tr>\n",
              "    <tr>\n",
              "      <th>Iteración</th>\n",
              "      <th></th>\n",
              "      <th></th>\n",
              "      <th></th>\n",
              "      <th></th>\n",
              "      <th></th>\n",
              "    </tr>\n",
              "  </thead>\n",
              "  <tbody>\n",
              "    <tr>\n",
              "      <th>0</th>\n",
              "      <td>0.000000</td>\n",
              "      <td>0.000000</td>\n",
              "      <td>0.000000</td>\n",
              "      <td>-------</td>\n",
              "      <td>-------</td>\n",
              "    </tr>\n",
              "    <tr>\n",
              "      <th>1</th>\n",
              "      <td>2.000000</td>\n",
              "      <td>2.400000</td>\n",
              "      <td>2.000000</td>\n",
              "      <td>2.4000000</td>\n",
              "      <td>3.6000000</td>\n",
              "    </tr>\n",
              "    <tr>\n",
              "      <th>2</th>\n",
              "      <td>2.080000</td>\n",
              "      <td>2.000000</td>\n",
              "      <td>1.920000</td>\n",
              "      <td>0.4000000</td>\n",
              "      <td>0.6000000</td>\n",
              "    </tr>\n",
              "    <tr>\n",
              "      <th>3</th>\n",
              "      <td>2.016000</td>\n",
              "      <td>1.952000</td>\n",
              "      <td>2.016000</td>\n",
              "      <td>0.0960000</td>\n",
              "      <td>0.1440000</td>\n",
              "    </tr>\n",
              "    <tr>\n",
              "      <th>4</th>\n",
              "      <td>1.987200</td>\n",
              "      <td>1.996800</td>\n",
              "      <td>2.012800</td>\n",
              "      <td>0.0448000</td>\n",
              "      <td>0.0672000</td>\n",
              "    </tr>\n",
              "    <tr>\n",
              "      <th>5</th>\n",
              "      <td>1.996800</td>\n",
              "      <td>2.007680</td>\n",
              "      <td>1.998080</td>\n",
              "      <td>0.0147200</td>\n",
              "      <td>0.0220800</td>\n",
              "    </tr>\n",
              "    <tr>\n",
              "      <th>6</th>\n",
              "      <td>2.001920</td>\n",
              "      <td>2.000896</td>\n",
              "      <td>1.997824</td>\n",
              "      <td>0.0067840</td>\n",
              "      <td>0.0101760</td>\n",
              "    </tr>\n",
              "    <tr>\n",
              "      <th>7</th>\n",
              "      <td>2.000614</td>\n",
              "      <td>1.998797</td>\n",
              "      <td>2.000205</td>\n",
              "      <td>0.0023808</td>\n",
              "      <td>0.0035712</td>\n",
              "    </tr>\n",
              "  </tbody>\n",
              "</table>\n",
              "</div>\n",
              "    <div class=\"colab-df-buttons\">\n",
              "\n",
              "  <div class=\"colab-df-container\">\n",
              "    <button class=\"colab-df-convert\" onclick=\"convertToInteractive('df-beb54e9c-f933-4f7e-a3a8-f91ba09ac767')\"\n",
              "            title=\"Convert this dataframe to an interactive table.\"\n",
              "            style=\"display:none;\">\n",
              "\n",
              "  <svg xmlns=\"http://www.w3.org/2000/svg\" height=\"24px\" viewBox=\"0 -960 960 960\">\n",
              "    <path d=\"M120-120v-720h720v720H120Zm60-500h600v-160H180v160Zm220 220h160v-160H400v160Zm0 220h160v-160H400v160ZM180-400h160v-160H180v160Zm440 0h160v-160H620v160ZM180-180h160v-160H180v160Zm440 0h160v-160H620v160Z\"/>\n",
              "  </svg>\n",
              "    </button>\n",
              "\n",
              "  <style>\n",
              "    .colab-df-container {\n",
              "      display:flex;\n",
              "      gap: 12px;\n",
              "    }\n",
              "\n",
              "    .colab-df-convert {\n",
              "      background-color: #E8F0FE;\n",
              "      border: none;\n",
              "      border-radius: 50%;\n",
              "      cursor: pointer;\n",
              "      display: none;\n",
              "      fill: #1967D2;\n",
              "      height: 32px;\n",
              "      padding: 0 0 0 0;\n",
              "      width: 32px;\n",
              "    }\n",
              "\n",
              "    .colab-df-convert:hover {\n",
              "      background-color: #E2EBFA;\n",
              "      box-shadow: 0px 1px 2px rgba(60, 64, 67, 0.3), 0px 1px 3px 1px rgba(60, 64, 67, 0.15);\n",
              "      fill: #174EA6;\n",
              "    }\n",
              "\n",
              "    .colab-df-buttons div {\n",
              "      margin-bottom: 4px;\n",
              "    }\n",
              "\n",
              "    [theme=dark] .colab-df-convert {\n",
              "      background-color: #3B4455;\n",
              "      fill: #D2E3FC;\n",
              "    }\n",
              "\n",
              "    [theme=dark] .colab-df-convert:hover {\n",
              "      background-color: #434B5C;\n",
              "      box-shadow: 0px 1px 3px 1px rgba(0, 0, 0, 0.15);\n",
              "      filter: drop-shadow(0px 1px 2px rgba(0, 0, 0, 0.3));\n",
              "      fill: #FFFFFF;\n",
              "    }\n",
              "  </style>\n",
              "\n",
              "    <script>\n",
              "      const buttonEl =\n",
              "        document.querySelector('#df-beb54e9c-f933-4f7e-a3a8-f91ba09ac767 button.colab-df-convert');\n",
              "      buttonEl.style.display =\n",
              "        google.colab.kernel.accessAllowed ? 'block' : 'none';\n",
              "\n",
              "      async function convertToInteractive(key) {\n",
              "        const element = document.querySelector('#df-beb54e9c-f933-4f7e-a3a8-f91ba09ac767');\n",
              "        const dataTable =\n",
              "          await google.colab.kernel.invokeFunction('convertToInteractive',\n",
              "                                                    [key], {});\n",
              "        if (!dataTable) return;\n",
              "\n",
              "        const docLinkHtml = 'Like what you see? Visit the ' +\n",
              "          '<a target=\"_blank\" href=https://colab.research.google.com/notebooks/data_table.ipynb>data table notebook</a>'\n",
              "          + ' to learn more about interactive tables.';\n",
              "        element.innerHTML = '';\n",
              "        dataTable['output_type'] = 'display_data';\n",
              "        await google.colab.output.renderOutput(dataTable, element);\n",
              "        const docLink = document.createElement('div');\n",
              "        docLink.innerHTML = docLinkHtml;\n",
              "        element.appendChild(docLink);\n",
              "      }\n",
              "    </script>\n",
              "  </div>\n",
              "\n",
              "\n",
              "<div id=\"df-c41d4110-6f4a-4e98-8e8c-623515dc17bc\">\n",
              "  <button class=\"colab-df-quickchart\" onclick=\"quickchart('df-c41d4110-6f4a-4e98-8e8c-623515dc17bc')\"\n",
              "            title=\"Suggest charts.\"\n",
              "            style=\"display:none;\">\n",
              "\n",
              "<svg xmlns=\"http://www.w3.org/2000/svg\" height=\"24px\"viewBox=\"0 0 24 24\"\n",
              "     width=\"24px\">\n",
              "    <g>\n",
              "        <path d=\"M19 3H5c-1.1 0-2 .9-2 2v14c0 1.1.9 2 2 2h14c1.1 0 2-.9 2-2V5c0-1.1-.9-2-2-2zM9 17H7v-7h2v7zm4 0h-2V7h2v10zm4 0h-2v-4h2v4z\"/>\n",
              "    </g>\n",
              "</svg>\n",
              "  </button>\n",
              "\n",
              "<style>\n",
              "  .colab-df-quickchart {\n",
              "      --bg-color: #E8F0FE;\n",
              "      --fill-color: #1967D2;\n",
              "      --hover-bg-color: #E2EBFA;\n",
              "      --hover-fill-color: #174EA6;\n",
              "      --disabled-fill-color: #AAA;\n",
              "      --disabled-bg-color: #DDD;\n",
              "  }\n",
              "\n",
              "  [theme=dark] .colab-df-quickchart {\n",
              "      --bg-color: #3B4455;\n",
              "      --fill-color: #D2E3FC;\n",
              "      --hover-bg-color: #434B5C;\n",
              "      --hover-fill-color: #FFFFFF;\n",
              "      --disabled-bg-color: #3B4455;\n",
              "      --disabled-fill-color: #666;\n",
              "  }\n",
              "\n",
              "  .colab-df-quickchart {\n",
              "    background-color: var(--bg-color);\n",
              "    border: none;\n",
              "    border-radius: 50%;\n",
              "    cursor: pointer;\n",
              "    display: none;\n",
              "    fill: var(--fill-color);\n",
              "    height: 32px;\n",
              "    padding: 0;\n",
              "    width: 32px;\n",
              "  }\n",
              "\n",
              "  .colab-df-quickchart:hover {\n",
              "    background-color: var(--hover-bg-color);\n",
              "    box-shadow: 0 1px 2px rgba(60, 64, 67, 0.3), 0 1px 3px 1px rgba(60, 64, 67, 0.15);\n",
              "    fill: var(--button-hover-fill-color);\n",
              "  }\n",
              "\n",
              "  .colab-df-quickchart-complete:disabled,\n",
              "  .colab-df-quickchart-complete:disabled:hover {\n",
              "    background-color: var(--disabled-bg-color);\n",
              "    fill: var(--disabled-fill-color);\n",
              "    box-shadow: none;\n",
              "  }\n",
              "\n",
              "  .colab-df-spinner {\n",
              "    border: 2px solid var(--fill-color);\n",
              "    border-color: transparent;\n",
              "    border-bottom-color: var(--fill-color);\n",
              "    animation:\n",
              "      spin 1s steps(1) infinite;\n",
              "  }\n",
              "\n",
              "  @keyframes spin {\n",
              "    0% {\n",
              "      border-color: transparent;\n",
              "      border-bottom-color: var(--fill-color);\n",
              "      border-left-color: var(--fill-color);\n",
              "    }\n",
              "    20% {\n",
              "      border-color: transparent;\n",
              "      border-left-color: var(--fill-color);\n",
              "      border-top-color: var(--fill-color);\n",
              "    }\n",
              "    30% {\n",
              "      border-color: transparent;\n",
              "      border-left-color: var(--fill-color);\n",
              "      border-top-color: var(--fill-color);\n",
              "      border-right-color: var(--fill-color);\n",
              "    }\n",
              "    40% {\n",
              "      border-color: transparent;\n",
              "      border-right-color: var(--fill-color);\n",
              "      border-top-color: var(--fill-color);\n",
              "    }\n",
              "    60% {\n",
              "      border-color: transparent;\n",
              "      border-right-color: var(--fill-color);\n",
              "    }\n",
              "    80% {\n",
              "      border-color: transparent;\n",
              "      border-right-color: var(--fill-color);\n",
              "      border-bottom-color: var(--fill-color);\n",
              "    }\n",
              "    90% {\n",
              "      border-color: transparent;\n",
              "      border-bottom-color: var(--fill-color);\n",
              "    }\n",
              "  }\n",
              "</style>\n",
              "\n",
              "  <script>\n",
              "    async function quickchart(key) {\n",
              "      const quickchartButtonEl =\n",
              "        document.querySelector('#' + key + ' button');\n",
              "      quickchartButtonEl.disabled = true;  // To prevent multiple clicks.\n",
              "      quickchartButtonEl.classList.add('colab-df-spinner');\n",
              "      try {\n",
              "        const charts = await google.colab.kernel.invokeFunction(\n",
              "            'suggestCharts', [key], {});\n",
              "      } catch (error) {\n",
              "        console.error('Error during call to suggestCharts:', error);\n",
              "      }\n",
              "      quickchartButtonEl.classList.remove('colab-df-spinner');\n",
              "      quickchartButtonEl.classList.add('colab-df-quickchart-complete');\n",
              "    }\n",
              "    (() => {\n",
              "      let quickchartButtonEl =\n",
              "        document.querySelector('#df-c41d4110-6f4a-4e98-8e8c-623515dc17bc button');\n",
              "      quickchartButtonEl.style.display =\n",
              "        google.colab.kernel.accessAllowed ? 'block' : 'none';\n",
              "    })();\n",
              "  </script>\n",
              "</div>\n",
              "    </div>\n",
              "  </div>\n"
            ]
          },
          "metadata": {},
          "execution_count": 15
        }
      ]
    }
  ],
  "metadata": {
    "interpreter": {
      "hash": "50a1c7f7f999c358e0b5259763df47a04f976b7989cc44fe344baf2ec3d120ee"
    },
    "kernelspec": {
      "display_name": "Python 3 (ipykernel)",
      "language": "python",
      "name": "python3"
    },
    "language_info": {
      "codemirror_mode": {
        "name": "ipython",
        "version": 3
      },
      "file_extension": ".py",
      "mimetype": "text/x-python",
      "name": "python",
      "nbconvert_exporter": "python",
      "pygments_lexer": "ipython3",
      "version": "3.11.4"
    },
    "colab": {
      "provenance": [],
      "include_colab_link": true
    }
  },
  "nbformat": 4,
  "nbformat_minor": 0
}