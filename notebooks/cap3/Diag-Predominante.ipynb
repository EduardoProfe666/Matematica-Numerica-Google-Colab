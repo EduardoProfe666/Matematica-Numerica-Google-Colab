{
 "cells": [
  {
   "cell_type": "markdown",
   "id": "0119538b-2067-475f-9c40-3763645df5c7",
   "metadata": {},
   "source": [
    "<a href=\"https://colab.research.google.com/github/EduardoProfe666/Matematica-Numerica-Google-Colab/blob/main/notebooks/cap3/Diag-Predominante.ipynb\" target=\"_parent\"><img src=\"https://colab.research.google.com/assets/colab-badge.svg\" alt=\"Open In Colab\"/></a>"
   ]
  },
  {
   "cell_type": "code",
   "execution_count": 1,
   "id": "083264aa-6f81-415c-82ce-ec9d9013a2d3",
   "metadata": {},
   "outputs": [],
   "source": [
    "from numpy import array, absolute, copy, zeros\n",
    "import pandas as pd"
   ]
  },
  {
   "cell_type": "markdown",
   "id": "671469f4-a156-410c-b7da-ca5e449323b8",
   "metadata": {},
   "source": [
    "# Matriz con diagonal predominante"
   ]
  },
  {
   "cell_type": "markdown",
   "id": "54a5cc8c-5779-47fa-b5ff-06b6570a3efe",
   "metadata": {},
   "source": [
    "## Implementación"
   ]
  },
  {
   "cell_type": "markdown",
   "id": "6e7708de-7ebf-4234-b034-30e7b877e56c",
   "metadata": {},
   "source": [
    "### Determinar matriz con diagonal predominante"
   ]
  },
  {
   "cell_type": "markdown",
   "id": "c7f44638-c5dc-439a-8d40-72a6b6aff306",
   "metadata": {},
   "source": [
    "``` determinar_matriz_diagonal_predominante(a): ``` Determinar si la matriz $A$ tiene diagonal predominante\n",
    "\n",
    "##### Parámetros\n",
    "- ``` a ``` : matriz de los coeficientes $A$"
   ]
  },
  {
   "cell_type": "code",
   "execution_count": 2,
   "id": "0e40c7db-b722-4d08-bea1-f03792f57c1a",
   "metadata": {},
   "outputs": [],
   "source": [
    "def determinar_matriz_diagonal_predominante(a):\n",
    "    m = absolute(a)\n",
    "    for i in range(len(m)):\n",
    "        x = m[i][i]\n",
    "        total = sum(m[i]) - x\n",
    "        if x <= total:\n",
    "            return False\n",
    "\n",
    "    return True"
   ]
  },
  {
   "cell_type": "markdown",
   "id": "de5c412d-654b-47e5-8e38-15e179f8445f",
   "metadata": {},
   "source": [
    "### Convertir matriz con diagonal predominante (Por Implementar)"
   ]
  },
  {
   "cell_type": "markdown",
   "id": "925a5410-59b4-4c1a-8232-602a5b558e9a",
   "metadata": {},
   "source": [
    "` convertir_matriz_diagonal_predominante(a,b): ` Transformar la matriz $A$ para que tenga diagonal predominante\n",
    "\n",
    "##### Parámetros\n",
    "- ` a ` : matriz de los coeficientes $A$\n",
    "- ` b ` : matriz de los coeficientes $B$"
   ]
  },
  {
   "cell_type": "code",
   "execution_count": 3,
   "id": "7f93b55a-7f7b-46dc-96ff-6df500a6a042",
   "metadata": {},
   "outputs": [],
   "source": [
    "# Por Implementar"
   ]
  },
  {
   "cell_type": "markdown",
   "id": "3e484871-efe4-4a6c-a3b8-2e119ba0dd43",
   "metadata": {},
   "source": [
    "## Inserción de datos"
   ]
  },
  {
   "cell_type": "markdown",
   "id": "a7f4f936-1dd4-4bfa-91c2-55c232494925",
   "metadata": {},
   "source": [
    "#### Datos\n",
    "\n",
    "- ` a ` : matriz de los coeficientes $A$\n",
    "- ` b ` : matriz de los términos independientes $B$"
   ]
  },
  {
   "cell_type": "code",
   "execution_count": 4,
   "id": "e991bcde-8804-4c5f-bc0b-4cec2d2eba1b",
   "metadata": {},
   "outputs": [],
   "source": [
    "a = array([[5, -1, 1],\n",
    "           [2, 5, -1],\n",
    "           [-1, 1, 5]])\n",
    "\n",
    "b = array([10, 12, 10])"
   ]
  },
  {
   "cell_type": "markdown",
   "id": "5bb75837-00b3-46f5-aae9-ef11c6075a85",
   "metadata": {},
   "source": [
    "## Salida de datos"
   ]
  },
  {
   "cell_type": "code",
   "execution_count": 5,
   "id": "75bbfb8a-46b1-4474-b045-9dd90b0e79f8",
   "metadata": {},
   "outputs": [
    {
     "name": "stdout",
     "output_type": "stream",
     "text": [
      "La matriz tiene diagonal predominante\n"
     ]
    }
   ],
   "source": [
    "boo = determinar_matriz_diagonal_predominante(a)\n",
    "if not boo:\n",
    "  print('La matriz proporcionada NO tiene diagonal predominante.')\n",
    "else:\n",
    "  print('La matriz tiene diagonal predominante')"
   ]
  },
  {
   "cell_type": "markdown",
   "id": "170dea4e-f36f-4989-9504-feb4f54246aa",
   "metadata": {},
   "source": [
    "#### Matriz convertida"
   ]
  },
  {
   "cell_type": "code",
   "execution_count": 6,
   "id": "c65105bf-e48d-4f39-b258-77bc75434201",
   "metadata": {},
   "outputs": [],
   "source": [
    "data = 0"
   ]
  },
  {
   "cell_type": "code",
   "execution_count": 7,
   "id": "376c365d-49e1-4bb7-9f7d-a15e7cc315e4",
   "metadata": {},
   "outputs": [],
   "source": [
    "if not boo:\n",
    "    pass\n",
    "    #pd.DataFrame(data=convertir_matriz_diagonal_predominante(a,b))"
   ]
  },
  {
   "cell_type": "code",
   "execution_count": 8,
   "id": "b9629df9-a068-47ac-a8ca-1424fac84690",
   "metadata": {},
   "outputs": [
    {
     "data": {
      "text/plain": [
       "0"
      ]
     },
     "execution_count": 8,
     "metadata": {},
     "output_type": "execute_result"
    }
   ],
   "source": [
    "data"
   ]
  }
 ],
 "metadata": {
  "kernelspec": {
   "display_name": "Python 3 (ipykernel)",
   "language": "python",
   "name": "python3"
  },
  "language_info": {
   "codemirror_mode": {
    "name": "ipython",
    "version": 3
   },
   "file_extension": ".py",
   "mimetype": "text/x-python",
   "name": "python",
   "nbconvert_exporter": "python",
   "pygments_lexer": "ipython3",
   "version": "3.11.4"
  }
 },
 "nbformat": 4,
 "nbformat_minor": 5
}
