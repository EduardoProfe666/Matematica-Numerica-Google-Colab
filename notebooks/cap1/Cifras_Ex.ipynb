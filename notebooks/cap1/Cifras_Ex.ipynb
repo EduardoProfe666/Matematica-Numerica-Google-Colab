{
 "cells": [
  {
   "cell_type": "markdown",
   "id": "9d80026d-0bd9-4c41-9a6d-e0045c3edb0e",
   "metadata": {},
   "source": [
    "<a href=\"https://colab.research.google.com/github/EduardoProfe666/Matematica-Numerica-Google-Colab/blob/main/notebooks/cap1/Cifras_Ex.ipynb\" target=\"_parent\"><img src=\"https://colab.research.google.com/assets/colab-badge.svg\" alt=\"Open In Colab\"/></a>"
   ]
  },
  {
   "cell_type": "markdown",
   "id": "cf1e6c10-a4c9-4c18-9288-de21a2c194ca",
   "metadata": {},
   "source": [
    "# Cifras exactas (Por implementar)"
   ]
  },
  {
   "cell_type": "markdown",
   "id": "8f1b1e6f-d8b5-4a7f-9de9-4691839a19f1",
   "metadata": {},
   "source": [
    "## Clases auxiliares necesarias"
   ]
  },
  {
   "cell_type": "code",
   "execution_count": 1,
   "id": "a3bc9870-b8e6-4875-bfaa-ef1f6906722e",
   "metadata": {},
   "outputs": [],
   "source": [
    "class ResultadoCifrasExactas:\n",
    "    def __init__(self):\n",
    "        self.lista_filas_proc = []\n",
    "        self.valor_cifras_exactas = 0.0\n",
    "        self.cant_cifras_exactas = 0\n",
    "        self.cant_cifras_dec_exactas = 0\n",
    "\n",
    "class FilaProcCifrasExactas:\n",
    "    def __init__(self):\n",
    "        self.digito = 0\n",
    "        self.pos_k = 0\n",
    "        self.valor_pos = 0.0\n",
    "        self.dig_exacto = True "
   ]
  },
  {
   "cell_type": "markdown",
   "id": "8f4ae685-876f-4c1f-87ad-308d56229a24",
   "metadata": {},
   "source": [
    "## Implementación \n",
    "`cifras_ex(xa, error_abs)`: Determina las cifras exactas de un valor $x$ dado (mostrando el procedimiento), así como contar la cantidad de cifras exactas y la cantidad de cifras decimales exactas\n",
    "\n",
    "Parámetros:\n",
    "- `xa`: valor aproximado $xa$ ($x^*$)\n",
    "- `error_abs`: error absoluto $E(x)$"
   ]
  },
  {
   "cell_type": "code",
   "execution_count": 2,
   "id": "5a1f2f31-a978-4132-8047-535c9cf42688",
   "metadata": {},
   "outputs": [],
   "source": [
    "# Implementar cifras_ex(xa, error_abs), de tal manera que se pueda realizar\n",
    "# una tabla con el procedimiento usando pandas.Dataframe, mostrar el valor de cifras exactas, \n",
    "# la cantidad de cifras exactas y la cantidad de cifras decimales exactas"
   ]
  },
  {
   "cell_type": "markdown",
   "id": "b49208e2-99ea-4bf1-9da7-4a23176b5e5b",
   "metadata": {},
   "source": [
    "# Inserción de datos"
   ]
  },
  {
   "cell_type": "code",
   "execution_count": 3,
   "id": "04810949-9e7a-4663-932a-b070a2c5ee3f",
   "metadata": {},
   "outputs": [],
   "source": [
    "xa = 4.5223\n",
    "error_abs = 0.03"
   ]
  },
  {
   "cell_type": "markdown",
   "id": "f55fa86d-cc91-471f-b618-587acfd50552",
   "metadata": {},
   "source": [
    "# Salida de datos"
   ]
  },
  {
   "cell_type": "code",
   "execution_count": 4,
   "id": "082abfee-f728-4db0-b1a0-88e8a1211a0b",
   "metadata": {},
   "outputs": [],
   "source": [
    "# Por implementar:\n",
    "# - Imprimir tabla con el procedimiento usando pandas.Dataframe\n",
    "# - Imprimir valor exacto\n",
    "# - Imprimir cantidad de cifras exactas\n",
    "# - Imprimir cantidad de cifras decimales exactas"
   ]
  }
 ],
 "metadata": {
  "kernelspec": {
   "display_name": "Python 3 (ipykernel)",
   "language": "python",
   "name": "python3"
  },
  "language_info": {
   "codemirror_mode": {
    "name": "ipython",
    "version": 3
   },
   "file_extension": ".py",
   "mimetype": "text/x-python",
   "name": "python",
   "nbconvert_exporter": "python",
   "pygments_lexer": "ipython3",
   "version": "3.11.4"
  }
 },
 "nbformat": 4,
 "nbformat_minor": 5
}
