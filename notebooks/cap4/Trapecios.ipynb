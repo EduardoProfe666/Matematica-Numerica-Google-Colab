{
 "cells": [
  {
   "cell_type": "markdown",
   "id": "252e8346-ac2b-4362-89e7-45e143d4a457",
   "metadata": {},
   "source": [
    "<a href=\"https://colab.research.google.com/github/EduardoProfe666/Matematica-Numerica-Google-Colab/blob/main/notebooks/cap4/Trapecios.ipynb\" target=\"_parent\"><img src=\"https://colab.research.google.com/assets/colab-badge.svg\" alt=\"Open In Colab\"/></a>"
   ]
  },
  {
   "cell_type": "code",
   "execution_count": null,
   "id": "73ba2870-be20-46b0-a257-d0015b6460b7",
   "metadata": {},
   "outputs": [],
   "source": []
  },
  {
   "cell_type": "markdown",
   "id": "afe877f4-80ac-431a-a8d1-6ff236f62a24",
   "metadata": {},
   "source": [
    "# Método de los Trapecios"
   ]
  },
  {
   "cell_type": "markdown",
   "id": "0edd1813-20be-4fee-98b3-b3651b206197",
   "metadata": {},
   "source": [
    "Se basa en la idea de dividir el intervalo de integración en $n$ subintervalos de amplitud\n",
    "$h$ mediante un conjunto de puntos $\\{a=x_0,x_1,x_2,...,x_n=b\\}$ y descomponer la integral\n",
    "en $n$ integrales, cada una de las cuales posee un intervalo de integración pequeño de longitud $h$.\n",
    "\n",
    "**Fórmula**:\n",
    "\n",
    "$$\\int_{a}^{b}f(x)dx≈h(\\frac{y_0}{2} + y_1 + y_2 + ... + y_{n-1} + \\frac{y_n}{2})$$"
   ]
  },
  {
   "cell_type": "code",
   "execution_count": null,
   "id": "fc4e5343-c758-4302-be1b-66e5b4383065",
   "metadata": {},
   "outputs": [],
   "source": []
  }
 ],
 "metadata": {
  "kernelspec": {
   "display_name": "Python 3 (ipykernel)",
   "language": "python",
   "name": "python3"
  },
  "language_info": {
   "codemirror_mode": {
    "name": "ipython",
    "version": 3
   },
   "file_extension": ".py",
   "mimetype": "text/x-python",
   "name": "python",
   "nbconvert_exporter": "python",
   "pygments_lexer": "ipython3",
   "version": "3.11.4"
  }
 },
 "nbformat": 4,
 "nbformat_minor": 5
}
