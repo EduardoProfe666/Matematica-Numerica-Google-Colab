{
 "cells": [
  {
   "cell_type": "code",
   "execution_count": 1,
   "metadata": {},
   "outputs": [],
   "source": [
    "from numpy import *"
   ]
  },
  {
   "cell_type": "markdown",
   "metadata": {},
   "source": [
    "# Método de Runge-Kutta de orden 4 (RK4)"
   ]
  },
  {
   "cell_type": "markdown",
   "metadata": {},
   "source": [
    "El algoritmo obtiene la solución aproximada del problema de Cauchy:\n",
    "$f' = f(x, y) \\\\\n",
    " y(X_{0} ) = Y_{0} $\n",
    "En un intervalo $x_{0} \\leq x \\leq x_{f} $ con paso $h > 0$"
   ]
  },
  {
   "cell_type": "markdown",
   "metadata": {},
   "source": [
    "## Implementación"
   ]
  },
  {
   "cell_type": "markdown",
   "metadata": {},
   "source": [
    "``` rk4(f, x0, y0, xf, h): ``` Implementación del método de runge-kutta de orden 4 para la resolución de ecuaciones diferenciales ordinarias\n",
    "\n",
    "### Parámetros\n",
    "\n",
    "- ``` f ``` : define la función\n",
    "- ``` x0 ``` : condición inicial\n",
    "- ``` y0 ``` : condición inicial\n",
    "- ``` xf ``` : valor final\n",
    "- ``` h ``` : paso(x<sub>n</sub>  - x<sub>n - 1</sub>)"
   ]
  },
  {
   "cell_type": "code",
   "execution_count": 2,
   "metadata": {},
   "outputs": [],
   "source": [
    "def rk4(f, x0, y0, xf, h):\n",
    "    n = 0\n",
    "    xn = x0\n",
    "    yn = y0\n",
    "    k1 = h * f(xn, yn)\n",
    "    k2 = h * f(xn + 1 / 2 * h, yn + 1 / 2 * k1)\n",
    "    k3 = h * f(xn + 1 / 2 * h, yn + 1 / 2 * k2)\n",
    "    k4 = h * f(xn + h, yn + k3)\n",
    "\n",
    "    print(\"{:<5}\\t {:.5f}\\t {:.5f}\\t {:.5f}\\t {:.5f}\\t {:.5f}\\t {:.5f}\\t\".format(n, xn, yn, k1, k2, k3, k4) )\n",
    "\n",
    "    while xn < xf:\n",
    "        k1 = h * f(xn, yn)\n",
    "        k2 = h * f(xn + 1 / 2 * h, yn + 1 / 2 * k1)\n",
    "        k3 = h * f(xn + 1 / 2 * h, yn + 1 / 2 * k2)\n",
    "        k4 = h * f(xn + h, yn + k3)\n",
    "        xn1 = xn + h\n",
    "        yn1 = yn + 1 / 6 * (k1 + 2 * k2 + 2 * k3 + k4)\n",
    "\n",
    "        n += 1\n",
    "         \n",
    "        xn = xn1\n",
    "        yn = yn1\n",
    "        \n",
    "        print(\"{:<5}\\t {:.5f}\\t {:.5f}\\t {:.5f}\\t {:.5f}\\t {:.5f}\\t {:.5f}\\t\".format(n, xn, yn, k1, k2, k3, k4) )"
   ]
  },
  {
   "cell_type": "markdown",
   "metadata": {},
   "source": [
    "## Entrada de datos"
   ]
  },
  {
   "cell_type": "code",
   "execution_count": 5,
   "metadata": {},
   "outputs": [],
   "source": [
    "f = lambda x, y : x/y\n",
    "x0 = 1\n",
    "y0 = 2\n",
    "xf = 3\n",
    "h = 0.5"
   ]
  },
  {
   "cell_type": "markdown",
   "metadata": {},
   "source": [
    "## Salida de datos"
   ]
  },
  {
   "cell_type": "code",
   "execution_count": 6,
   "metadata": {},
   "outputs": [
    {
     "name": "stdout",
     "output_type": "stream",
     "text": [
      "n    \t Xn     \t Yn     \t K1     \t K2     \t K3     \t K4     \t\n",
      "----------------------------------------------------------------------------------------------------\n",
      "0    \t 1.00000\t 2.00000\t 0.25000\t 0.29412\t 0.29110\t 0.32735\t\n",
      "1    \t 1.50000\t 2.29130\t 0.25000\t 0.29412\t 0.29110\t 0.32735\t\n",
      "2    \t 2.00000\t 2.64576\t 0.32733\t 0.35642\t 0.35432\t 0.37798\t\n",
      "3    \t 2.50000\t 3.04139\t 0.37796\t 0.39686\t 0.39554\t 0.41101\t\n",
      "4    \t 3.00000\t 3.46411\t 0.41100\t 0.42348\t 0.42267\t 0.43302\t\n"
     ]
    }
   ],
   "source": [
    "print(\"{:<5}\\t {:<7}\\t {:<7}\\t {:<7}\\t {:<7}\\t {:<7}\\t {:<7}\\t\".format(\"n\", \"Xn\", \"Yn\", \"K1\", \"K2\", \"K3\", \"K4\") )\n",
    "print('-' * 100)\n",
    "\n",
    "rk4(f, x0, y0, xf, h)"
   ]
  },
  {
   "cell_type": "code",
   "execution_count": null,
   "metadata": {},
   "outputs": [],
   "source": []
  }
 ],
 "metadata": {
  "interpreter": {
   "hash": "5f1e2b7debabb81cfddc515bc2208cf2c521bebfebb13da0ee988ea546d02c25"
  },
  "kernelspec": {
   "display_name": "Python 3 (ipykernel)",
   "language": "python",
   "name": "python3"
  },
  "language_info": {
   "codemirror_mode": {
    "name": "ipython",
    "version": 3
   },
   "file_extension": ".py",
   "mimetype": "text/x-python",
   "name": "python",
   "nbconvert_exporter": "python",
   "pygments_lexer": "ipython3",
   "version": "3.11.4"
  }
 },
 "nbformat": 4,
 "nbformat_minor": 4
}
