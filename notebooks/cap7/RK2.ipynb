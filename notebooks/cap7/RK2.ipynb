{
 "cells": [
  {
   "cell_type": "code",
   "execution_count": 1,
   "metadata": {},
   "outputs": [],
   "source": [
    "from numpy import *"
   ]
  },
  {
   "cell_type": "markdown",
   "metadata": {},
   "source": [
    "# Método de Runge-Kutta de orden 2 (RK2)"
   ]
  },
  {
   "cell_type": "markdown",
   "metadata": {},
   "source": [
    "El algoritmo obtiene la solución aproximada del problema de Cauchy:\n",
    "$f' = f(x, y) \\\\\n",
    " y(X_{0} ) = Y_{0} $\n",
    "En un intervalo $x_{0} \\leq x \\leq x_{f} $ con paso $h > 0$"
   ]
  },
  {
   "cell_type": "markdown",
   "metadata": {},
   "source": [
    "## Implementación"
   ]
  },
  {
   "cell_type": "markdown",
   "metadata": {},
   "source": [
    "``` rk2(f, x0, y0, xf, h): ``` Implementación del método de runge-kutta de orden 2 para la resolución de ecuaciones diferenciales ordinarias\n",
    "\n",
    "### Parámetros\n",
    "\n",
    "- ``` f ``` : define la función\n",
    "- ``` x0 ``` : condición inicial\n",
    "- ``` y0 ``` : condición inicial\n",
    "- ``` xf ``` : valor final\n",
    "- ``` h ``` : paso(x<sub>n</sub>  - x<sub>n - 1</sub>)"
   ]
  },
  {
   "cell_type": "code",
   "execution_count": 2,
   "metadata": {},
   "outputs": [],
   "source": [
    "def rk2(f, x0, y0, xf, h):\n",
    "    n = 0\n",
    "    xn = x0\n",
    "    yn = y0\n",
    "    k1 = h * f(xn, yn)\n",
    "    k2 = h * f(xn + h, yn + k1)\n",
    "\n",
    "    print(\"{:<5}\\t {:.5f}\\t {:.5f}\\t {:.5f}\\t {:.5f}\\t\".format(n, xn, yn, k1, k2) )\n",
    "\n",
    "    while xn < xf:\n",
    "        k1 = h * f(xn, yn)\n",
    "        k2 = h * f(xn + h, yn + k1)\n",
    "        xn1 = xn + h\n",
    "        yn1 = yn + 1 / 2 * (k1 + k2)\n",
    "\n",
    "        n += 1\n",
    "         \n",
    "        xn = xn1\n",
    "        yn = yn1\n",
    "        \n",
    "        print(\"{:<5}\\t {:.5f}\\t {:.5f}\\t {:.5f}\\t {:.5f}\\t\".format(n, xn, yn, k1, k2) )"
   ]
  },
  {
   "cell_type": "markdown",
   "metadata": {},
   "source": [
    "## Entrada de datos"
   ]
  },
  {
   "cell_type": "code",
   "execution_count": 3,
   "metadata": {},
   "outputs": [],
   "source": [
    "f = lambda x, y : x/y\n",
    "x0 = 1\n",
    "y0 = 2\n",
    "xf = 3\n",
    "h = 0.5"
   ]
  },
  {
   "cell_type": "markdown",
   "metadata": {},
   "source": [
    "## Salida de datos"
   ]
  },
  {
   "cell_type": "code",
   "execution_count": 4,
   "metadata": {
    "tags": []
   },
   "outputs": [
    {
     "name": "stdout",
     "output_type": "stream",
     "text": [
      "n    \t Xn     \t Yn     \t K1     \t K2     \t\n",
      "----------------------------------------------------------------------\n",
      "0    \t 1.00000\t 2.00000\t 0.25000\t 0.33333\t\n",
      "1    \t 1.50000\t 2.29167\t 0.25000\t 0.33333\t\n",
      "2    \t 2.00000\t 2.64622\t 0.32727\t 0.38183\t\n",
      "3    \t 2.50000\t 3.04184\t 0.37790\t 0.41334\t\n",
      "4    \t 3.00000\t 3.46452\t 0.41094\t 0.43443\t\n"
     ]
    }
   ],
   "source": [
    "print(\"{:<5}\\t {:<7}\\t {:<7}\\t {:<7}\\t {:<7}\\t\".format(\"n\", \"Xn\", \"Yn\", \"K1\", \"K2\") )\n",
    "print('-' * 70)\n",
    "\n",
    "rk2(f, x0, y0, xf, h)"
   ]
  },
  {
   "cell_type": "code",
   "execution_count": null,
   "metadata": {},
   "outputs": [],
   "source": []
  }
 ],
 "metadata": {
  "interpreter": {
   "hash": "5f1e2b7debabb81cfddc515bc2208cf2c521bebfebb13da0ee988ea546d02c25"
  },
  "kernelspec": {
   "display_name": "Python 3 (ipykernel)",
   "language": "python",
   "name": "python3"
  },
  "language_info": {
   "codemirror_mode": {
    "name": "ipython",
    "version": 3
   },
   "file_extension": ".py",
   "mimetype": "text/x-python",
   "name": "python",
   "nbconvert_exporter": "python",
   "pygments_lexer": "ipython3",
   "version": "3.11.4"
  }
 },
 "nbformat": 4,
 "nbformat_minor": 4
}
