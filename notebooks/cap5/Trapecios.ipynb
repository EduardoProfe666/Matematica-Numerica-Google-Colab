{
 "cells": [
  {
   "cell_type": "markdown",
   "metadata": {},
   "source": [
    "<a href=\"https://colab.research.google.com/github/EduardoProfe666/Matematica-Numerica-Google-Colab/blob/main/notebooks/cap5/Trapecios.ipynb\" target=\"_parent\"><img src=\"https://colab.research.google.com/assets/colab-badge.svg\" alt=\"Open In Colab\"/></a>"
   ]
  },
  {
   "cell_type": "code",
   "execution_count": 1,
   "metadata": {},
   "outputs": [],
   "source": [
    "import math\n",
    "\n",
    "import pandas as pd\n",
    "from sympy import *\n",
    "from sympy.abc import x"
   ]
  },
  {
   "cell_type": "markdown",
   "metadata": {},
   "source": [
    "# Método de los trapecios"
   ]
  },
  {
   "cell_type": "markdown",
   "metadata": {},
   "source": [
    "Se basa en la idea de dividir el intervalo de integración en $n$ subintervalos de amplitud $h$ mediante un conjunto de puntos $\\lbrace a=x_0,x_1,x_2,...,x_n=b \\rbrace$ y descomponer la integral en $n$ integrales, cada una de las cuales posee un intervalo de integración pequeño de longitud $h$, quedando:\n",
    "$$ \\int_{a}^{b}f(x)dx = \\int_{x_0}^{x_1}f(x)dx + \\int_{x_1}^{x_2}f(x)dx + \\int_{x_2}^{x_3}f(x)dx + ... + \\int_{x_{n-1}}^{x_n}f(x)dx $$\n"
   ]
  },
  {
   "cell_type": "markdown",
   "metadata": {},
   "source": [
    "# Implementación"
   ]
  },
  {
   "cell_type": "markdown",
   "metadata": {},
   "source": [
    "## Calcular el paso (h)"
   ]
  },
  {
   "cell_type": "markdown",
   "metadata": {},
   "source": [
    "` calcular_h(a, b, n): ` Permite calcular el paso o $h$\n",
    "\n",
    "**Parámetros**:\n",
    "\n",
    "- ` a ` : Límite inferior del intervalo $a$\n",
    "- ` b ` : Límite superior del intervalo $b$\n",
    "- ` n ` : Cantidad de sub-intervalos $n$"
   ]
  },
  {
   "cell_type": "code",
   "execution_count": null,
   "metadata": {},
   "outputs": [],
   "source": [
    "def calcular_h(a, b, n):\n",
    "    return (b - a) / n"
   ]
  },
  {
   "cell_type": "markdown",
   "metadata": {},
   "source": [
    "## Algoritmo de Trapecios"
   ]
  },
  {
   "cell_type": "markdown",
   "metadata": {},
   "source": [
    "` calcular_h(a, b, n): ` Calcula la integral definida en $[a,b]$ mediante el método de Trapecios\n",
    "\n",
    "**Parámetros**:\n",
    "\n",
    "- ` f ` : función $f(x)$ a evaluar\n",
    "- ` a ` : límite inferior del intervalo $a$\n",
    "- ` b ` : límite superior del intervalo $b$\n",
    "- ` n ` : cantidad de sub-intervalos $n$"
   ]
  },
  {
   "cell_type": "code",
   "execution_count": null,
   "metadata": {},
   "outputs": [],
   "source": [
    "def trapecios(f, a, b, n):\n",
    "    h = calcular_h(a, b, n)\n",
    "    f = lambdify(x, f)\n",
    "    resultado = 0\n",
    "    contador = 0\n",
    "\n",
    "    for i in range(n + 1):\n",
    "        if i == 0 or i == n:\n",
    "            resultado += f(contador) / 2\n",
    "        else:\n",
    "            resultado += f(contador)\n",
    "        contador += h\n",
    "\n",
    "    return h * resultado"
   ]
  },
  {
   "cell_type": "markdown",
   "metadata": {},
   "source": [
    "## "
   ]
  },
  {
   "cell_type": "code",
   "execution_count": null,
   "metadata": {},
   "outputs": [],
   "source": []
  },
  {
   "cell_type": "code",
   "execution_count": null,
   "metadata": {},
   "outputs": [],
   "source": []
  },
  {
   "cell_type": "code",
   "execution_count": null,
   "metadata": {},
   "outputs": [],
   "source": []
  },
  {
   "cell_type": "markdown",
   "metadata": {},
   "source": [
    "# Inserción de datos:"
   ]
  },
  {
   "cell_type": "code",
   "execution_count": 3,
   "metadata": {},
   "outputs": [],
   "source": [
    "xi = [2, 6, 10, 14, 18, 22]\n",
    "yi = [1.5, 5.2, 6.2, 6.4, 5.9, 3.5]\n",
    "n = 6\n",
    "h = 4"
   ]
  },
  {
   "cell_type": "markdown",
   "metadata": {},
   "source": [
    "# Salida de datos:"
   ]
  },
  {
   "cell_type": "code",
   "execution_count": 4,
   "metadata": {},
   "outputs": [
    {
     "name": "stdout",
     "output_type": "stream",
     "text": [
      "104.80000000000001\n"
     ]
    }
   ],
   "source": [
    "yint = [yi[i] for i in range(1, len(yi) - 1, 1) ] \n",
    "i_trap = (h / 2) * (yi[0] + 2 * sum(yint) + yi[-1] )\n",
    "\n",
    "print (i_trap)"
   ]
  }
 ],
 "metadata": {
  "interpreter": {
   "hash": "5f1e2b7debabb81cfddc515bc2208cf2c521bebfebb13da0ee988ea546d02c25"
  },
  "kernelspec": {
   "display_name": "Python 3 (ipykernel)",
   "language": "python",
   "name": "python3"
  },
  "language_info": {
   "codemirror_mode": {
    "name": "ipython",
    "version": 3
   },
   "file_extension": ".py",
   "mimetype": "text/x-python",
   "name": "python",
   "nbconvert_exporter": "python",
   "pygments_lexer": "ipython3",
   "version": "3.11.4"
  }
 },
 "nbformat": 4,
 "nbformat_minor": 4
}
