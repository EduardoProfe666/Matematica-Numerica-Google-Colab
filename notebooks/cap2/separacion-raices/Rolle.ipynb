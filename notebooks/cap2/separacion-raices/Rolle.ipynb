{
 "cells": [
  {
   "cell_type": "markdown",
   "id": "fc0ee640-6feb-4171-8acf-0ceb1cf3b9da",
   "metadata": {},
   "source": [
    "<a href=\"https://colab.research.google.com/github/EduardoProfe666/Matematica-Numerica-Google-Colab/blob/main/notebooks/cap2/separacion-raices/Rolle.ipynb\" target=\"_parent\"><img src=\"https://colab.research.google.com/assets/colab-badge.svg\" alt=\"Open In Colab\"/></a>"
   ]
  },
  {
   "cell_type": "markdown",
   "id": "e4579b39-6fd5-4fda-8b8c-da597c53e521",
   "metadata": {},
   "source": [
    "# Teorema de Rolle (Por implementar)"
   ]
  },
  {
   "cell_type": "markdown",
   "id": "a2bf137b-1f41-46f1-851e-26896fb6224a",
   "metadata": {},
   "source": [
    "## Teorema:\n",
    "Si $f(x)$ es continua en $[a,b]$, derivable en el intervalo $]a,b[$ y además se cumple que $f(a)=f(b)$ entonces existe un punto $c$ que pertenece al intervalo $[a,b]$ en el cual se cumple que la derivada de la función es cero, es decir $f'=0$"
   ]
  },
  {
   "cell_type": "markdown",
   "id": "3fb34b04-b34c-4012-867b-456ecd7f94db",
   "metadata": {},
   "source": [
    "## Implementación:\n",
    "`rolle(f, a, b)`: Permite garantizar la unicidad de la raíz\n",
    "\n",
    "Parámetros:\n",
    "- `f`: función lambda $f(x)$ de la ecuación en la forma $f(x)=0$\n",
    "- `a`: Extremo inferior del intervalo $[a,b]$\n",
    "- `b`: Extremo superior del intervalo $[a,b]$"
   ]
  },
  {
   "cell_type": "code",
   "execution_count": 1,
   "id": "7db02e00-a96d-490b-bb34-457fcdeb1d00",
   "metadata": {},
   "outputs": [],
   "source": [
    "# def rolle(f, a, b):"
   ]
  },
  {
   "cell_type": "markdown",
   "id": "5e7d9e1a-de15-483f-a59a-1f618736f43d",
   "metadata": {},
   "source": [
    "# Inserción de datos"
   ]
  },
  {
   "cell_type": "code",
   "execution_count": 2,
   "id": "c116871f-83fa-4a48-9d45-6f39cb574a1c",
   "metadata": {},
   "outputs": [],
   "source": [
    "# Importaciones\n",
    "import math\n",
    "\n",
    "# Datos\n",
    "f = lambda x: (math.e**-x)-x # Modificar esta parte con la función deseada\n",
    "a = 0\n",
    "b = 1"
   ]
  },
  {
   "cell_type": "markdown",
   "id": "2888bdb2-5960-4f12-b86e-52061d008aad",
   "metadata": {},
   "source": [
    "# Salida de datos "
   ]
  },
  {
   "cell_type": "code",
   "execution_count": 3,
   "id": "905276e1-0450-44d7-a9c7-18e835690f6a",
   "metadata": {},
   "outputs": [],
   "source": [
    "# r = 'Se' if rolle(f, a, b) else 'No se'\n",
    "# print(f'{r} garantiza la unicidad de la raíz')"
   ]
  }
 ],
 "metadata": {
  "kernelspec": {
   "display_name": "Python 3 (ipykernel)",
   "language": "python",
   "name": "python3"
  },
  "language_info": {
   "codemirror_mode": {
    "name": "ipython",
    "version": 3
   },
   "file_extension": ".py",
   "mimetype": "text/x-python",
   "name": "python",
   "nbconvert_exporter": "python",
   "pygments_lexer": "ipython3",
   "version": "3.11.4"
  }
 },
 "nbformat": 4,
 "nbformat_minor": 5
}
