{
 "cells": [
  {
   "cell_type": "markdown",
   "metadata": {},
   "source": [
    "<a href=\"https://colab.research.google.com/github/EduardoProfe666/Matematica-Numerica-Google-Colab/blob/main/notebooks/cap2/resolucion-ecuaciones-algebraicas/Biseccion.ipynb\" target=\"_parent\"><img src=\"https://colab.research.google.com/assets/colab-badge.svg\" alt=\"Open In Colab\"/></a>"
   ]
  },
  {
   "cell_type": "code",
   "execution_count": 1,
   "metadata": {},
   "outputs": [],
   "source": [
    "from numpy import *\n",
    "from numpy import array, absolute, copy, zeros\n",
    "import pandas as pd"
   ]
  },
  {
   "cell_type": "markdown",
   "metadata": {},
   "source": [
    "# Método de Bisección"
   ]
  },
  {
   "cell_type": "markdown",
   "metadata": {},
   "source": [
    "**Hipótesis**:\n",
    "- En $[a ,b]$ la ecuación posee raíz única\n",
    "- $f(x)$ es continua en $[a, b]$\n",
    "- $f(a) * f(b) < 0$"
   ]
  },
  {
   "cell_type": "markdown",
   "metadata": {},
   "source": [
    "## Implementación"
   ]
  },
  {
   "cell_type": "markdown",
   "metadata": {},
   "source": [
    "### Clase Auxiliar de Resultado de Bisección"
   ]
  },
  {
   "cell_type": "code",
   "execution_count": 2,
   "metadata": {},
   "outputs": [],
   "source": [
    "class ResultadoBiseccion:\n",
    "    def __init__(self):\n",
    "        self.a=0.0\n",
    "        self.b=0.0\n",
    "        self.x=0.0\n",
    "        self.fx=0.0\n",
    "        self.fa=0.0\n",
    "        self.fb=0.0\n",
    "        self.error=0.0"
   ]
  },
  {
   "cell_type": "markdown",
   "metadata": {},
   "source": [
    "### Algoritmo de Bisección"
   ]
  },
  {
   "cell_type": "markdown",
   "metadata": {},
   "source": [
    "` biseccion(f, a, b, tol): ` Implementación del método de bisección para aproximar raíces\n",
    "\n",
    "**Parámetros**:\n",
    "\n",
    "- ` f ` : función $f(x)$ a evaluar\n",
    "- ` a ` : define el extremo inferior $a$ del intervalo $[a,b]$\n",
    "- ` b ` : define el extremo superior $b$ del intervalo $[a,b]$\n",
    "- ` tol ` : cota para el error absoluto"
   ]
  },
  {
   "cell_type": "code",
   "execution_count": 3,
   "metadata": {},
   "outputs": [],
   "source": [
    "def biseccion(f, a, b, tol):\n",
    "\n",
    "    if a > b:\n",
    "        raise ValueError(\"Intervalo mal definido\")\n",
    "    if f(a) * f(b) >= 0.0:\n",
    "        raise ValueError(\"La función debe cambiar de signo en el intervalo\")\n",
    "    if tol <= 0:\n",
    "        raise ValueError(\"La cota de error debe ser un número positivo\")\n",
    "\n",
    "    half =(a + b) / 2.0\n",
    "\n",
    "    while True:\n",
    "        f_a = f(a)\n",
    "        f_b = f(b)\n",
    "        f_half = f(half)\n",
    "        error = (b - a) / 2 \n",
    "        print(\"{:.5f}\\t {}\\t {:.5f}\\t {}\\t {:.5f}\\t {}\\t {:.5f}\".format(a, '-' if f_a < 0 else '+', b, '-' if f_b < 0 else '+', half, '-' if f_half < 0 else '+', error ))\n",
    "\n",
    "        if b - a < tol:\n",
    "            return half\n",
    "        elif f_a * f_half > 0:\n",
    "            a = half\n",
    "        else:\n",
    "            b = half\n",
    "        half =(a + b) / 2.0\n"
   ]
  },
  {
   "cell_type": "markdown",
   "metadata": {},
   "source": [
    "# Inserción de datos"
   ]
  },
  {
   "cell_type": "code",
   "execution_count": 4,
   "metadata": {},
   "outputs": [],
   "source": [
    "f = lambda x : log(x) - sin(x)\n",
    "\n",
    "a = 1\n",
    "\n",
    "b = 3\n",
    "\n",
    "tol = 0.005 "
   ]
  },
  {
   "cell_type": "markdown",
   "metadata": {},
   "source": [
    "# Salida de datos"
   ]
  },
  {
   "cell_type": "code",
   "execution_count": 5,
   "metadata": {},
   "outputs": [
    {
     "name": "stdout",
     "output_type": "stream",
     "text": [
      "a      \t f(a)\t b      \t f(b)\t x      \t f(x)\t error  \n",
      "----------------------------------------------------------------------\n",
      "1.00000\t -\t 3.00000\t +\t 2.00000\t -\t 1.00000\n",
      "2.00000\t -\t 3.00000\t +\t 2.50000\t +\t 0.50000\n",
      "2.00000\t -\t 2.50000\t +\t 2.25000\t +\t 0.25000\n",
      "2.00000\t -\t 2.25000\t +\t 2.12500\t -\t 0.12500\n",
      "2.12500\t -\t 2.25000\t +\t 2.18750\t -\t 0.06250\n",
      "2.18750\t -\t 2.25000\t +\t 2.21875\t -\t 0.03125\n",
      "2.21875\t -\t 2.25000\t +\t 2.23438\t +\t 0.01562\n",
      "2.21875\t -\t 2.23438\t +\t 2.22656\t +\t 0.00781\n",
      "2.21875\t -\t 2.22656\t +\t 2.22266\t +\t 0.00391\n",
      "2.21875\t -\t 2.22266\t +\t 2.22070\t +\t 0.00195\n",
      "Raíz hallada con método de bisección: 2.220703125\n",
      "Tolerancia aplicada: 0.005\n"
     ]
    }
   ],
   "source": [
    "print (\"{:<7}\\t {:<1}\\t {:<7}\\t {:<1}\\t {:<7}\\t {:<1}\\t {:<7}\".format(\"a\", \"f(a)\", \"b\", \"f(b)\", \"x\", \"f(x)\", \"error\") )\n",
    "print ('-' * 70)\n",
    "\n",
    "root = biseccion(f,a,b,tol)\n",
    "\n",
    "print ('Raíz hallada con método de bisección: {}'.format(root))\n",
    "print ('Tolerancia aplicada: {}'.format(tol))"
   ]
  }
 ],
 "metadata": {
  "interpreter": {
   "hash": "50a1c7f7f999c358e0b5259763df47a04f976b7989cc44fe344baf2ec3d120ee"
  },
  "kernelspec": {
   "display_name": "Python 3 (ipykernel)",
   "language": "python",
   "name": "python3"
  },
  "language_info": {
   "codemirror_mode": {
    "name": "ipython",
    "version": 3
   },
   "file_extension": ".py",
   "mimetype": "text/x-python",
   "name": "python",
   "nbconvert_exporter": "python",
   "pygments_lexer": "ipython3",
   "version": "3.11.4"
  }
 },
 "nbformat": 4,
 "nbformat_minor": 4
}
