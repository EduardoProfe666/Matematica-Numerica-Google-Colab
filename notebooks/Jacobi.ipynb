{
  "cells": [
    {
      "cell_type": "markdown",
      "metadata": {
        "id": "view-in-github",
        "colab_type": "text"
      },
      "source": [
        "<a href=\"https://colab.research.google.com/github/EduardoProfe666/Matematica-Numerica-JupyterLab/blob/main/notebooks/Jacobi.ipynb\" target=\"_parent\"><img src=\"https://colab.research.google.com/assets/colab-badge.svg\" alt=\"Open In Colab\"/></a>"
      ]
    },
    {
      "cell_type": "code",
      "execution_count": 36,
      "metadata": {
        "id": "svO1bNjTfjWA"
      },
      "outputs": [],
      "source": [
        "from numpy import *\n",
        "from tabulate import *"
      ]
    },
    {
      "cell_type": "markdown",
      "metadata": {
        "id": "lrCAj5MmfjWF"
      },
      "source": [
        "# Algoritmo de Jacobi\n",
        "\n",
        "Algoritmo utilizado para hallar solución a sistemas lineales de orden $n$ en la forma $Ax = b$ con error menor que $\\varepsilon$\n",
        "\n",
        "Hipótesis:\n",
        "- Se supone que la matriz $A$ posee diagonal predominante"
      ]
    },
    {
      "cell_type": "markdown",
      "source": [
        "### Auxiliares"
      ],
      "metadata": {
        "id": "fG79Xn94F-1k"
      }
    },
    {
      "cell_type": "code",
      "source": [
        "class ResultadoJacobi:\n",
        "    def __init__(self):\n",
        "        self.num_iter = 0\n",
        "        self.lista_x = []\n",
        "        self.sigma = 0\n",
        "        self.error = 0\n",
        "        self.iteracion_0 = False\n",
        "\n",
        "def hallar_f_convergencia_error(f_convergencia):\n",
        "    return abs(f_convergencia / (1 - f_convergencia))\n",
        "\n",
        "\n",
        "def convertir_headers_resultados(lista_resultados_jacobi):\n",
        "    lista = []\n",
        "\n",
        "    r = lista_resultados_jacobi[0]\n",
        "    lista.append('Iteración')\n",
        "    for i in range(len(r.lista_x)):\n",
        "        lista.append(f'x{i + 1}')\n",
        "    lista.append('Sigma')\n",
        "    lista.append('Error')\n",
        "\n",
        "    return lista\n",
        "\n",
        "\n",
        "def convertir_resultados(lista_resultados_jacobi):\n",
        "    lista = []\n",
        "\n",
        "    for r in lista_resultados_jacobi:\n",
        "        l = []\n",
        "        if r.iteracion_0:\n",
        "            l.append(0)\n",
        "            for x in r.lista_x:\n",
        "                l.append(x)\n",
        "            l.append('-------')\n",
        "            l.append('-------')\n",
        "        else:\n",
        "            l.append(r.num_iter)\n",
        "            for x in r.lista_x:\n",
        "                l.append(x)\n",
        "            l.append('{:.7f}'.format(r.sigma))\n",
        "            l.append('{:.7f}'.format(r.error))\n",
        "\n",
        "        lista.append(l)\n",
        "\n",
        "    return lista"
      ],
      "metadata": {
        "id": "HReu_4_aGEQN"
      },
      "execution_count": 37,
      "outputs": []
    },
    {
      "cell_type": "markdown",
      "metadata": {
        "id": "rDAsYnrKfjWI"
      },
      "source": [
        "### Implementación"
      ]
    },
    {
      "cell_type": "markdown",
      "metadata": {
        "id": "Ec_Fl3FhfjWJ"
      },
      "source": [
        "``` Jacobi(a, b, x0, f_convergencia, tol, max_iter): ``` Implementación del algoritmo de Jacobi para hallar solución a sistemas de ecuaciones lineales\n",
        "\n",
        "##### Parámetros\n",
        "\n",
        "- ``` a ``` : matriz de los coeficientes\n",
        "- ``` b ``` : matriz de los términos independientes\n",
        "- ``` x0 ``` : matriz columna que representa los valores estimados de solucio (se puede utilizar la matriz trivial)\n",
        "- ``` f_convergencia ``` : define el factor de convergencia de la matriz A\n",
        "- ``` tol ``` : Cota para el error absoluto\n",
        "- ``` max_iter ```: Cantidad máxima de iteraciones"
      ]
    },
    {
      "cell_type": "code",
      "execution_count": 38,
      "metadata": {
        "id": "4YfILBK4fjWJ"
      },
      "outputs": [],
      "source": [
        "def jacobi(a, b, x0, f_convergencia, tol, max_iter):\n",
        "    xv = copy(x0)\n",
        "    xa = zeros(b.shape[0])\n",
        "    condition = True\n",
        "    step = 1\n",
        "    retorno = []\n",
        "    r = ResultadoJacobi()\n",
        "\n",
        "    r.iteracion_0 = True\n",
        "    r.lista_x = xv.tolist()\n",
        "    retorno.append(r)\n",
        "\n",
        "    while condition:\n",
        "        r = ResultadoJacobi()\n",
        "        error = 0\n",
        "\n",
        "        for i in range(a.shape[0]):\n",
        "            xa[i] = b[i]\n",
        "\n",
        "            for j in range(a.shape[1]):\n",
        "                if j != i:\n",
        "                    xa[i] -= a[i][j] * xv[j]\n",
        "\n",
        "            xa[i] /= a[i][i]\n",
        "\n",
        "            if abs(xa[i] - xv[i]) > error:\n",
        "                error = abs(xa[i] - xv[i])\n",
        "\n",
        "        r.sigma = error\n",
        "        error *= abs(f_convergencia / (1 - f_convergencia))\n",
        "        r.error = error\n",
        "        r.num_iter = step\n",
        "        r.lista_x = xa.tolist()\n",
        "        retorno.append(r)\n",
        "\n",
        "        xv = copy(xa)\n",
        "        step += 1\n",
        "        condition = error > tol and step <= max_iter\n",
        "\n",
        "    return retorno"
      ]
    },
    {
      "cell_type": "markdown",
      "metadata": {
        "id": "fEfBlblZfjWK"
      },
      "source": [
        "#### Hallar factor de convergencia\n",
        "\n",
        "``` hallar_factor_convergencia(a): ``` Halla el factor de convergencia de la matriz a\n",
        "\n",
        "##### Parámetros\n",
        "``` a ``` : matriz de los coeficientes"
      ]
    },
    {
      "cell_type": "code",
      "execution_count": 39,
      "metadata": {
        "id": "H2f0Fh78fjWL"
      },
      "outputs": [],
      "source": [
        "def hallar_factor_convergencia(a):\n",
        "\n",
        "    a = absolute(a)\n",
        "    result = []\n",
        "\n",
        "    for i in range(len(a)):\n",
        "        total_fila = sum(a[i])\n",
        "\n",
        "        if total_fila - a[i][i] < 0:\n",
        "            raise Exception(\"El factor de convergencia de la matriz es mayor que 0\")\n",
        "\n",
        "        result.append((total_fila - a[i][i]) / a[i][i])\n",
        "\n",
        "    return max(result)"
      ]
    },
    {
      "cell_type": "markdown",
      "source": [
        "#### Determinar matriz con diagonal predominante\n",
        "\n",
        "``` determinar_matriz_diagonal_predominante(a): ``` Determinar si la matriz a tiene diagonal predominante\n",
        "\n",
        "##### Parámetros\n",
        "``` a ``` : matriz de los coeficientes"
      ],
      "metadata": {
        "id": "hvop5ozwGnEF"
      }
    },
    {
      "cell_type": "code",
      "source": [
        "def determinar_matriz_diagonal_predominante(a):\n",
        "    m = absolute(a)\n",
        "    for i in range(len(m)):\n",
        "        x = m[i][i]\n",
        "        total = sum(m[i]) - x\n",
        "        if x <= total:\n",
        "            return False\n",
        "\n",
        "    return True"
      ],
      "metadata": {
        "id": "VV1I6P6eHLbb"
      },
      "execution_count": 40,
      "outputs": []
    },
    {
      "cell_type": "markdown",
      "metadata": {
        "id": "UKCZQ15dfjWL"
      },
      "source": [
        "### Inserción de datos"
      ]
    },
    {
      "cell_type": "code",
      "execution_count": 41,
      "metadata": {
        "id": "ykCCUkrTfjWM"
      },
      "outputs": [],
      "source": [
        "a = array([[5, -1, 1],\n",
        "           [2, 5, -1],\n",
        "           [-1, 1, 5]])\n",
        "\n",
        "b = array([10, 12, 10])\n",
        "\n",
        "x0 = array([0, 0, 0])\n",
        "\n",
        "tol = 0.005\n",
        "\n",
        "max_iter = 100\n",
        "\n",
        "f_convergencia = hallar_factor_convergencia(a)\n",
        "\n",
        "formato_tabla = 'rounded_grid'\n",
        "\n",
        "cant_decimales = 7"
      ]
    },
    {
      "cell_type": "markdown",
      "metadata": {
        "id": "yiYhUSzPfjWN"
      },
      "source": [
        "### Salida de datos"
      ]
    },
    {
      "cell_type": "code",
      "execution_count": 42,
      "metadata": {
        "tags": [],
        "id": "7B3QIZrBfjWO",
        "outputId": "c81b0a97-911c-4cf8-f352-7e06cf5edf58",
        "colab": {
          "base_uri": "https://localhost:8080/"
        }
      },
      "outputs": [
        {
          "output_type": "stream",
          "name": "stdout",
          "text": [
            "Anotaciones Generales:\n",
            "La matriz tiene diagonal predominante\n",
            "El factor de convergencia es 0.6\n",
            "ɑ/(1-ɑ) = 1.5000000\n",
            "\n",
            "Resultados de la aplicación del método de Jacobi:\n",
            "╭─────────────┬───────────┬───────────┬───────────┬───────────┬───────────╮\n",
            "│  Iteración  │    x1     │    x2     │    x3     │   Sigma   │   Error   │\n",
            "├─────────────┼───────────┼───────────┼───────────┼───────────┼───────────┤\n",
            "│      0      │ 0.0000000 │ 0.0000000 │ 0.0000000 │  -------  │  -------  │\n",
            "├─────────────┼───────────┼───────────┼───────────┼───────────┼───────────┤\n",
            "│      1      │ 2.0000000 │ 2.4000000 │ 2.0000000 │ 2.4000000 │ 3.6000000 │\n",
            "├─────────────┼───────────┼───────────┼───────────┼───────────┼───────────┤\n",
            "│      2      │ 2.0800000 │ 2.0000000 │ 1.9200000 │ 0.4000000 │ 0.6000000 │\n",
            "├─────────────┼───────────┼───────────┼───────────┼───────────┼───────────┤\n",
            "│      3      │ 2.0160000 │ 1.9520000 │ 2.0160000 │ 0.0960000 │ 0.1440000 │\n",
            "├─────────────┼───────────┼───────────┼───────────┼───────────┼───────────┤\n",
            "│      4      │ 1.9872000 │ 1.9968000 │ 2.0128000 │ 0.0448000 │ 0.0672000 │\n",
            "├─────────────┼───────────┼───────────┼───────────┼───────────┼───────────┤\n",
            "│      5      │ 1.9968000 │ 2.0076800 │ 1.9980800 │ 0.0147200 │ 0.0220800 │\n",
            "├─────────────┼───────────┼───────────┼───────────┼───────────┼───────────┤\n",
            "│      6      │ 2.0019200 │ 2.0008960 │ 1.9978240 │ 0.0067840 │ 0.0101760 │\n",
            "├─────────────┼───────────┼───────────┼───────────┼───────────┼───────────┤\n",
            "│      7      │ 2.0006144 │ 1.9987968 │ 2.0002048 │ 0.0023808 │ 0.0035712 │\n",
            "╰─────────────┴───────────┴───────────┴───────────┴───────────┴───────────╯\n"
          ]
        }
      ],
      "source": [
        "if not determinar_matriz_diagonal_predominante(a):\n",
        "    print('La matriz proporcionada no tiene diagonal predominante. Haga las transformaciones correspondientes')\n",
        "else:\n",
        "    print('Anotaciones Generales:')\n",
        "    print('La matriz tiene diagonal predominante')\n",
        "    print(f'El factor de convergencia es {hallar_factor_convergencia(a)}')\n",
        "    print('ɑ/(1-ɑ) = {:.7f}\\n'.format(hallar_f_convergencia_error(hallar_factor_convergencia(a))))\n",
        "    #\n",
        "    # print('En la forma X = MX + C, M queda:')\n",
        "    #\n",
        "    # print('C queda:')\n",
        "\n",
        "    print('Resultados de la aplicación del método de Jacobi:')\n",
        "\n",
        "    r = jacobi(a, b, x0, f_convergencia, tol, max_iter)\n",
        "\n",
        "    print(\n",
        "        tabulate(tabular_data=convertir_resultados(r), headers=convertir_headers_resultados(r),\n",
        "                 tablefmt=formato_tabla,\n",
        "                 stralign='center', floatfmt=f'.{cant_decimales}f', numalign='center'))"
      ]
    }
  ],
  "metadata": {
    "interpreter": {
      "hash": "50a1c7f7f999c358e0b5259763df47a04f976b7989cc44fe344baf2ec3d120ee"
    },
    "kernelspec": {
      "display_name": "Python 3 (ipykernel)",
      "language": "python",
      "name": "python3"
    },
    "language_info": {
      "codemirror_mode": {
        "name": "ipython",
        "version": 3
      },
      "file_extension": ".py",
      "mimetype": "text/x-python",
      "name": "python",
      "nbconvert_exporter": "python",
      "pygments_lexer": "ipython3",
      "version": "3.11.4"
    },
    "colab": {
      "provenance": [],
      "include_colab_link": true
    }
  },
  "nbformat": 4,
  "nbformat_minor": 0
}