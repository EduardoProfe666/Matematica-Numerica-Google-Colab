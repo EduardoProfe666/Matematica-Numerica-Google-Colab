{
 "cells": [
  {
   "cell_type": "code",
   "execution_count": 1,
   "metadata": {},
   "outputs": [],
   "source": [
    "from utils import *\n",
    "from numpy import *\n",
    "import numpy.polynomial as pol"
   ]
  },
  {
   "cell_type": "markdown",
   "metadata": {},
   "source": [
    "# Sección de Oro"
   ]
  },
  {
   "cell_type": "markdown",
   "metadata": {},
   "source": [
    "## Implementación"
   ]
  },
  {
   "cell_type": "markdown",
   "metadata": {},
   "source": [
    "``` goldensection_opt(a, b, f, d, tol): ``` Implementación del método de sección de oro para optimización con restricciones en funciones unimodales\n",
    "\n",
    "### Parámetros\n",
    "- ``` a ``` : define el extremo inferior del intervalo\n",
    "- ``` b ``` : define el extremo superior del intervalo\n",
    "- ``` f ``` : define la función a evaluar\n",
    "- ``` d ``` : define la distancia de separación entre *a* y *b*\n",
    "- ``` tol(opcional) ``` : Cota para el error absoluto (por defecto $1.0 * 10^{-6}$) "
   ]
  },
  {
   "cell_type": "code",
   "execution_count": 2,
   "metadata": {},
   "outputs": [],
   "source": [
    "def goldensection_opt(a, b, f, factor = 0.381966, tol = 0.0001):\n",
    "    i = 0\n",
    "\n",
    "    l = b - a\n",
    "\n",
    "    x1 = a + factor * l\n",
    "    x2 = b - factor * l\n",
    "\n",
    "    y1 = f(x1)\n",
    "    y2 = f(x2)\n",
    "\n",
    "    print (\"{}\\t {:.5f}\\t {:.5f}\\t {:.5f}\\t {:.5f}\\t {:.5f}\\t {:.5f}\\t {:.5f}\".format(i, a, b, l, x1, x2, y1, y2) )\n",
    "\n",
    "    while l > tol:\n",
    "        if y1 > y2:\n",
    "            a = x1\n",
    "            x1 = x2\n",
    "            y1 = y2\n",
    "            l = b - a\n",
    "            x2 = b - factor * l\n",
    "            y2 = f(x2) \n",
    "        else:\n",
    "            b = x2\n",
    "            x2 = x1\n",
    "            y2 = y1\n",
    "            l = b - a\n",
    "            x1 = a + factor * l\n",
    "            y1 = f(x1)\n",
    "\n",
    "        i += 1\n",
    "\n",
    "        print (\"{}\\t {:.5f}\\t {:.5f}\\t {:.5f}\\t {:.5f}\\t {:.5f}\\t {:.5f}\\t {:.5f}\".format(i, a, b, l, x1, x2, y1, y2) )\n",
    "\n",
    "    print(f\"El intervalo obtenido es: [{a}, {b}]\")"
   ]
  },
  {
   "cell_type": "markdown",
   "metadata": {},
   "source": [
    "## Caso para valores expresados en una función polinómica:"
   ]
  },
  {
   "cell_type": "markdown",
   "metadata": {},
   "source": [
    "### Entrada de datos"
   ]
  },
  {
   "cell_type": "code",
   "execution_count": 3,
   "metadata": {},
   "outputs": [],
   "source": [
    "a = 3\n",
    "b = 5\n",
    "f = \"-x^4+8x^3-16x^2\"\n",
    "factor = 0.381966\n",
    "tol = 0.1"
   ]
  },
  {
   "cell_type": "markdown",
   "metadata": {},
   "source": [
    "### Salida"
   ]
  },
  {
   "cell_type": "code",
   "execution_count": 4,
   "metadata": {},
   "outputs": [
    {
     "name": "stdout",
     "output_type": "stream",
     "text": [
      "i  \t a      \t b      \t l      \t x1     \t x2     \t y1     \t y2     \n",
      "------------------------------------------------------------------------------------------------------------------------\n",
      "0\t 3.00000\t 5.00000\t 2.00000\t 3.76393\t 4.23607\t 0.78951\t 1.00000\n",
      "1\t 3.00000\t 4.23607\t 1.23607\t 3.47214\t 3.76393\t 3.35921\t 0.78951\n",
      "2\t 3.47214\t 4.23607\t 0.76393\t 3.76393\t 3.94427\t 0.78951\t 0.04831\n",
      "3\t 3.76393\t 4.23607\t 0.47214\t 3.94427\t 4.05573\t 0.04831\t 0.05108\n",
      "4\t 3.76393\t 4.05573\t 0.29180\t 3.87539\t 3.94427\t 0.23321\t 0.04831\n",
      "5\t 3.87539\t 4.05573\t 0.18034\t 3.94427\t 3.98684\t 0.04831\t 0.00275\n",
      "6\t 3.94427\t 4.05573\t 0.11146\t 3.98684\t 4.01316\t 0.00275\t 0.00279\n",
      "7\t 3.94427\t 4.01316\t 0.06888\t 3.97058\t 3.98684\t 0.01364\t 0.00275\n",
      "El intervalo obtenido es: [3.944271930470526, 4.013155633135158]\n"
     ]
    }
   ],
   "source": [
    "raw_c = poly_coefficients(f)\n",
    "coef = raw_c[::-1]\n",
    "\n",
    "p = pol.Polynomial(coef)\n",
    "\n",
    "print (\"{:<3}\\t {:<7}\\t {:<7}\\t {:<7}\\t {:<7}\\t {:<7}\\t {:<7}\\t {:<7}\".format(\"i\", \"a\", \"b\", \"l\", \"x1\", \"x2\", \"y1\", \"y2\") )\n",
    "print ('-' * 120)\n",
    "\n",
    "goldensection_opt(a, b, p, factor, tol)  "
   ]
  },
  {
   "cell_type": "markdown",
   "metadata": {},
   "source": [
    "## Caso para valores expresados en una función de tipo _numpy_:"
   ]
  },
  {
   "cell_type": "markdown",
   "metadata": {},
   "source": [
    "### Entrada de datos"
   ]
  },
  {
   "cell_type": "code",
   "execution_count": 7,
   "metadata": {},
   "outputs": [],
   "source": [
    "a = 0.3\n",
    "b = 2.1\n",
    "f = lambda x : x * pow(e,-x)\n",
    "factor = 0.381966\n",
    "tol = 0.12"
   ]
  },
  {
   "cell_type": "markdown",
   "metadata": {},
   "source": [
    "### Salida"
   ]
  },
  {
   "cell_type": "code",
   "execution_count": 8,
   "metadata": {},
   "outputs": [
    {
     "name": "stdout",
     "output_type": "stream",
     "text": [
      "i  \t a      \t b      \t l      \t x1     \t x2     \t y1     \t y2     \n",
      "------------------------------------------------------------------------------------------------------------------------\n",
      "0\t 0.30000\t 2.10000\t 1.80000\t 0.98754\t 1.41246\t 0.36785\t 0.34400\n",
      "1\t 0.98754\t 2.10000\t 1.11246\t 1.41246\t 1.67508\t 0.34400\t 0.31373\n",
      "2\t 1.41246\t 2.10000\t 0.68754\t 1.67508\t 1.83738\t 0.31373\t 0.29257\n",
      "3\t 1.67508\t 2.10000\t 0.42492\t 1.83738\t 1.93769\t 0.29257\t 0.27910\n",
      "4\t 1.83738\t 2.10000\t 0.26262\t 1.93769\t 1.99969\t 0.27910\t 0.27071\n",
      "5\t 1.93769\t 2.10000\t 0.16231\t 1.99969\t 2.03800\t 0.27071\t 0.26553\n",
      "6\t 1.99969\t 2.10000\t 0.10031\t 2.03800\t 2.06168\t 0.26553\t 0.26233\n",
      "El intervalo obtenido es: [1.999689446861874, 2.1]\n"
     ]
    }
   ],
   "source": [
    "print (\"{:<3}\\t {:<7}\\t {:<7}\\t {:<7}\\t {:<7}\\t {:<7}\\t {:<7}\\t {:<7}\".format(\"i\", \"a\", \"b\", \"l\", \"x1\", \"x2\", \"y1\", \"y2\") )\n",
    "print ('-' * 120)\n",
    "\n",
    "goldensection_opt(a, b, f, factor, tol)"
   ]
  },
  {
   "cell_type": "code",
   "execution_count": null,
   "metadata": {},
   "outputs": [],
   "source": []
  }
 ],
 "metadata": {
  "interpreter": {
   "hash": "5f1e2b7debabb81cfddc515bc2208cf2c521bebfebb13da0ee988ea546d02c25"
  },
  "kernelspec": {
   "display_name": "Python 3 (ipykernel)",
   "language": "python",
   "name": "python3"
  },
  "language_info": {
   "codemirror_mode": {
    "name": "ipython",
    "version": 3
   },
   "file_extension": ".py",
   "mimetype": "text/x-python",
   "name": "python",
   "nbconvert_exporter": "python",
   "pygments_lexer": "ipython3",
   "version": "3.11.4"
  }
 },
 "nbformat": 4,
 "nbformat_minor": 4
}
