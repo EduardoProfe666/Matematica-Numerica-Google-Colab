{
 "cells": [
  {
   "cell_type": "code",
   "execution_count": 1,
   "metadata": {},
   "outputs": [],
   "source": [
    "from utils import *\n",
    "from numpy import *\n",
    "import numpy.polynomial as pol"
   ]
  },
  {
   "cell_type": "markdown",
   "metadata": {},
   "source": [
    "# Método de Bisección"
   ]
  },
  {
   "cell_type": "markdown",
   "metadata": {},
   "source": [
    "## Implementación"
   ]
  },
  {
   "cell_type": "markdown",
   "metadata": {},
   "source": [
    "``` biseccion_opt(a, b, f, d, tol): ``` Implementación del método de bisección para optimización con restricciones en funciones unimodales\n",
    "\n",
    "### Parámetros\n",
    "- ``` a ``` : define el extremo inferior del intervalo\n",
    "- ``` b ``` : define el extremo superior del intervalo\n",
    "- ``` f ``` : define la función a evaluar\n",
    "- ``` d ``` : define la distancia de separación entre *a* y *b*\n",
    "- ``` tol(opcional) ``` : Cota para el error absoluto (por defecto $1.0 * 10^{-6}$) "
   ]
  },
  {
   "cell_type": "code",
   "execution_count": 2,
   "metadata": {},
   "outputs": [],
   "source": [
    "def biseccion_opt(a, b, f, d, tol = 0.0001):\n",
    "    i = 0\n",
    "\n",
    "    x1 = (a + b) / 2 - d / 2\n",
    "    x2 = (a + b) / 2 + d / 2\n",
    "\n",
    "    y1 = f(x1)\n",
    "    y2 = f(x2)\n",
    "\n",
    "    l = b - a\n",
    "\n",
    "    print (\"{}\\t {:.5f}\\t {:.5f}\\t {:.5f}\\t {:.5f}\\t {:.5f}\\t {:.5f}\\t {:.5f}\".format(i, a, b, l, x1, x2, y1, y2) )\n",
    "\n",
    "    while l > tol:\n",
    "        if y1 < y2:\n",
    "            a = x1\n",
    "        else:\n",
    "            b = x2\n",
    "        \n",
    "        x1 = (a + b) / 2 - d / 2\n",
    "        x2 = (a + b) / 2 + d / 2\n",
    "\n",
    "        y1 = f(x1)\n",
    "        y2 = f(x2)\n",
    "\n",
    "        l = b - a\n",
    "        i += 1\n",
    "\n",
    "        print (\"{}\\t {:.5f}\\t {:.5f}\\t {:.5f}\\t {:.5f}\\t {:.5f}\\t {:.5f}\\t {:.5f}\".format(i, a, b, l, x1, x2, y1, y2) )\n",
    "\n",
    "    print(f\"El intervalo obtenido es: [{a}, {b}]\")"
   ]
  },
  {
   "cell_type": "markdown",
   "metadata": {},
   "source": [
    "## Caso para valores expresados en una función polinómica:"
   ]
  },
  {
   "cell_type": "markdown",
   "metadata": {},
   "source": [
    "### Entrada de datos"
   ]
  },
  {
   "cell_type": "code",
   "execution_count": 3,
   "metadata": {},
   "outputs": [],
   "source": [
    "a = -1.2\n",
    "b = -0.8\n",
    "f = \"2x^2+4x-1\"\n",
    "d = 0.0001\n",
    "tol = 0.001"
   ]
  },
  {
   "cell_type": "markdown",
   "metadata": {},
   "source": [
    "### Salida"
   ]
  },
  {
   "cell_type": "code",
   "execution_count": 4,
   "metadata": {},
   "outputs": [
    {
     "name": "stdout",
     "output_type": "stream",
     "text": [
      "i  \t a      \t b      \t l      \t x1     \t x2     \t y1     \t y2     \n",
      "------------------------------------------------------------------------------------------------------------------------\n",
      "0\t -1.20000\t -0.80000\t 0.40000\t -1.00005\t -0.99995\t -3.00000\t -3.00000\n",
      "1\t -1.00005\t -0.80000\t 0.20005\t -0.90008\t -0.89998\t -2.98003\t -2.97999\n",
      "2\t -0.90008\t -0.80000\t 0.10008\t -0.85009\t -0.84999\t -2.95505\t -2.95499\n",
      "3\t -0.85009\t -0.80000\t 0.05009\t -0.82509\t -0.82499\t -2.93882\t -2.93875\n",
      "4\t -0.82509\t -0.80000\t 0.02509\t -0.81260\t -0.81250\t -2.92976\t -2.92969\n",
      "5\t -0.81260\t -0.80000\t 0.01260\t -0.80635\t -0.80625\t -2.92500\t -2.92492\n",
      "6\t -0.80635\t -0.80000\t 0.00635\t -0.80322\t -0.80312\t -2.92256\t -2.92248\n",
      "7\t -0.80322\t -0.80000\t 0.00322\t -0.80166\t -0.80156\t -2.92132\t -2.92124\n",
      "8\t -0.80166\t -0.80000\t 0.00166\t -0.80088\t -0.80078\t -2.92070\t -2.92062\n",
      "9\t -0.80088\t -0.80000\t 0.00088\t -0.80049\t -0.80039\t -2.92039\t -2.92031\n",
      "El intervalo obtenido es: [-0.8008810546874999, -0.8]\n"
     ]
    }
   ],
   "source": [
    "raw_c = poly_coefficients(f)\n",
    "coef = raw_c[::-1]\n",
    "\n",
    "p = pol.Polynomial(coef)\n",
    "\n",
    "print (\"{:<3}\\t {:<7}\\t {:<7}\\t {:<7}\\t {:<7}\\t {:<7}\\t {:<7}\\t {:<7}\".format(\"i\", \"a\", \"b\", \"l\", \"x1\", \"x2\", \"y1\", \"y2\") )\n",
    "print ('-' * 120)\n",
    "\n",
    "biseccion_opt(a, b, p, d, tol)"
   ]
  },
  {
   "cell_type": "markdown",
   "metadata": {},
   "source": [
    "## Caso para valores expresados en una función de tipo _numpy_:"
   ]
  },
  {
   "cell_type": "markdown",
   "metadata": {},
   "source": [
    "### Entrada de datos"
   ]
  },
  {
   "cell_type": "code",
   "execution_count": 25,
   "metadata": {},
   "outputs": [],
   "source": [
    "a = 0.3\n",
    "b = 2.1\n",
    "f = lambda x : x * pow(e,-x)\n",
    "d = 0.0001\n",
    "tol = 0.001"
   ]
  },
  {
   "cell_type": "markdown",
   "metadata": {},
   "source": [
    "### Salida"
   ]
  },
  {
   "cell_type": "code",
   "execution_count": 26,
   "metadata": {
    "tags": []
   },
   "outputs": [
    {
     "name": "stdout",
     "output_type": "stream",
     "text": [
      "i  \t a      \t b      \t l      \t x1     \t x2     \t y1     \t y2     \n",
      "------------------------------------------------------------------------------------------------------------------------\n",
      "0\t 0.30000\t 2.10000\t 1.80000\t 1.19995\t 1.20005\t 0.36144\t 0.36143\n",
      "1\t 0.30000\t 1.20005\t 0.90005\t 0.74998\t 0.75008\t 0.35427\t 0.35428\n",
      "2\t 0.74998\t 1.20005\t 0.45008\t 0.97496\t 0.97506\t 0.36776\t 0.36776\n",
      "3\t 0.97496\t 1.20005\t 0.22509\t 1.08746\t 1.08756\t 0.36655\t 0.36655\n",
      "4\t 0.97496\t 1.08756\t 0.11259\t 1.03121\t 1.03131\t 0.36770\t 0.36770\n",
      "5\t 0.97496\t 1.03131\t 0.05635\t 1.00309\t 1.00319\t 0.36788\t 0.36788\n",
      "6\t 0.97496\t 1.00319\t 0.02822\t 0.98902\t 0.98912\t 0.36786\t 0.36786\n",
      "7\t 0.98902\t 1.00319\t 0.01416\t 0.99606\t 0.99616\t 0.36788\t 0.36788\n",
      "8\t 0.99606\t 1.00319\t 0.00713\t 0.99957\t 0.99967\t 0.36788\t 0.36788\n",
      "9\t 0.99957\t 1.00319\t 0.00362\t 1.00133\t 1.00143\t 0.36788\t 0.36788\n",
      "10\t 0.99957\t 1.00143\t 0.00186\t 1.00045\t 1.00055\t 0.36788\t 0.36788\n",
      "11\t 0.99957\t 1.00055\t 0.00098\t 1.00001\t 1.00011\t 0.36788\t 0.36788\n",
      "El intervalo obtenido es: [0.9995705078125002, 1.0005493652343753]\n"
     ]
    }
   ],
   "source": [
    "print (\"{:<3}\\t {:<7}\\t {:<7}\\t {:<7}\\t {:<7}\\t {:<7}\\t {:<7}\\t {:<7}\".format(\"i\", \"a\", \"b\", \"l\", \"x1\", \"x2\", \"y1\", \"y2\") )\n",
    "print ('-' * 120)\n",
    "\n",
    "biseccion_opt(a, b, f, d, tol)"
   ]
  },
  {
   "cell_type": "code",
   "execution_count": null,
   "metadata": {},
   "outputs": [],
   "source": []
  }
 ],
 "metadata": {
  "interpreter": {
   "hash": "5f1e2b7debabb81cfddc515bc2208cf2c521bebfebb13da0ee988ea546d02c25"
  },
  "kernelspec": {
   "display_name": "Python 3 (ipykernel)",
   "language": "python",
   "name": "python3"
  },
  "language_info": {
   "codemirror_mode": {
    "name": "ipython",
    "version": 3
   },
   "file_extension": ".py",
   "mimetype": "text/x-python",
   "name": "python",
   "nbconvert_exporter": "python",
   "pygments_lexer": "ipython3",
   "version": "3.11.4"
  }
 },
 "nbformat": 4,
 "nbformat_minor": 4
}
