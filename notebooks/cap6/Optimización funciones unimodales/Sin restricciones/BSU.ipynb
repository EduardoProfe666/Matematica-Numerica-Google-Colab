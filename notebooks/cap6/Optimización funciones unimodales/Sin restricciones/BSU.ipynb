{
 "cells": [
  {
   "cell_type": "code",
   "execution_count": 1,
   "metadata": {},
   "outputs": [],
   "source": [
    "from utils import *\n",
    "from numpy import *\n",
    "import numpy.polynomial as pol"
   ]
  },
  {
   "cell_type": "markdown",
   "metadata": {},
   "source": [
    "# Búsqueda Secuencial Uniforme"
   ]
  },
  {
   "cell_type": "markdown",
   "metadata": {},
   "source": [
    "## Implementación"
   ]
  },
  {
   "cell_type": "markdown",
   "metadata": {},
   "source": [
    "``` bsu(f, x0, s): ``` Implementación del método de búsqueda secuencial uniforme para optimización sin restricciones en funciones unimodales\n",
    "\n",
    "### Parámetros\n",
    "\n",
    "- ``` f ``` : define la función a optimizar\n",
    "- ``` x0 ``` : punto de inicio de la búsqueda\n",
    "- ``` s ``` : paso "
   ]
  },
  {
   "cell_type": "code",
   "execution_count": 2,
   "metadata": {},
   "outputs": [],
   "source": [
    "def bsu(f, x0, s):\n",
    "    i = 1\n",
    "    x1 = x0\n",
    "    x2 = x1 + s\n",
    "    x3 = x2 + s\n",
    "\n",
    "    y1 = f(x1)\n",
    "    y2 = f(x2)\n",
    "    y3 = f(x3)\n",
    "\n",
    "    print (\"{}\\t {:.5f}\\t {:.5f}\\t {:.5f}\\t {:.5f}\\t {:.5f}\\t {:.5f}\".format(i, x1, x2, x3, y1, y2, y3) )\n",
    "\n",
    "    while (y3 > y2):\n",
    "        x1 = x1 + s\n",
    "        x2 = x2 + s\n",
    "        x3 = x3 + s\n",
    "\n",
    "        y1 = f(x1)\n",
    "        y2 = f(x2)\n",
    "        y3 = f(x3)\n",
    "\n",
    "        i += 1\n",
    "\n",
    "        print (\"{}\\t {:.5f}\\t {:.5f}\\t {:.5f}\\t {:.5f}\\t {:.5f}\\t {:.5f}\".format(i, x1, x2, x3, y1, y2, y3) )\n",
    "\n",
    "    print(f\"El punto mínimo es: y = {y2} y se alcanza en x = {x2}\")            "
   ]
  },
  {
   "cell_type": "markdown",
   "metadata": {},
   "source": [
    "## Caso para valores expresados en una función polinómica:"
   ]
  },
  {
   "cell_type": "markdown",
   "metadata": {},
   "source": [
    "### Entrada de datos"
   ]
  },
  {
   "cell_type": "code",
   "execution_count": 3,
   "metadata": {},
   "outputs": [],
   "source": [
    "f = \"2x^2+4x-1\"\n",
    "x0 = -1.6\n",
    "s = 0.2"
   ]
  },
  {
   "cell_type": "markdown",
   "metadata": {},
   "source": [
    "### Salida"
   ]
  },
  {
   "cell_type": "code",
   "execution_count": 4,
   "metadata": {},
   "outputs": [
    {
     "name": "stdout",
     "output_type": "stream",
     "text": [
      "i  \t x1     \t x2     \t x3     \t y1     \t y2     \t y3     \n",
      "---------------------------------------------------------------------------------------------------------\n",
      "1\t -1.60000\t -1.40000\t -1.20000\t -2.28000\t -2.68000\t -2.92000\n",
      "El punto mínimo es: y = -2.6799999999999997 y se alcanza en x = -1.4000000000000001\n"
     ]
    }
   ],
   "source": [
    "raw_c = poly_coefficients(f)\n",
    "coef = raw_c[::-1]\n",
    "\n",
    "p = pol.Polynomial(coef)\n",
    "\n",
    "print (\"{:<3}\\t {:<7}\\t {:<7}\\t {:<7}\\t {:<7}\\t {:<7}\\t {:<7}\".format(\"i\", \"x1\", \"x2\", \"x3\", \"y1\", \"y2\", \"y3\") )\n",
    "print ('-' * 105)\n",
    "\n",
    "bsu(p, x0, s)"
   ]
  },
  {
   "cell_type": "markdown",
   "metadata": {},
   "source": [
    "## Caso para valores expresados en una función de tipo _numpy_:"
   ]
  },
  {
   "cell_type": "markdown",
   "metadata": {},
   "source": [
    "### Entrada de datos"
   ]
  },
  {
   "cell_type": "code",
   "execution_count": 5,
   "metadata": {},
   "outputs": [],
   "source": [
    "f = lambda x: x*pow(e,-x)\n",
    "x0 = 0\n",
    "s = 0.1"
   ]
  },
  {
   "cell_type": "markdown",
   "metadata": {},
   "source": [
    "### Salida"
   ]
  },
  {
   "cell_type": "code",
   "execution_count": 6,
   "metadata": {
    "tags": []
   },
   "outputs": [
    {
     "name": "stdout",
     "output_type": "stream",
     "text": [
      "i  \t x1     \t x2     \t x3     \t y1     \t y2     \t y3     \n",
      "---------------------------------------------------------------------------------------------------------\n",
      "1\t 0.00000\t 0.10000\t 0.20000\t 0.00000\t 0.09048\t 0.16375\n",
      "2\t 0.10000\t 0.20000\t 0.30000\t 0.09048\t 0.16375\t 0.22225\n",
      "3\t 0.20000\t 0.30000\t 0.40000\t 0.16375\t 0.22225\t 0.26813\n",
      "4\t 0.30000\t 0.40000\t 0.50000\t 0.22225\t 0.26813\t 0.30327\n",
      "5\t 0.40000\t 0.50000\t 0.60000\t 0.26813\t 0.30327\t 0.32929\n",
      "6\t 0.50000\t 0.60000\t 0.70000\t 0.30327\t 0.32929\t 0.34761\n",
      "7\t 0.60000\t 0.70000\t 0.80000\t 0.32929\t 0.34761\t 0.35946\n",
      "8\t 0.70000\t 0.80000\t 0.90000\t 0.34761\t 0.35946\t 0.36591\n",
      "9\t 0.80000\t 0.90000\t 1.00000\t 0.35946\t 0.36591\t 0.36788\n",
      "10\t 0.90000\t 1.00000\t 1.10000\t 0.36591\t 0.36788\t 0.36616\n",
      "El punto mínimo es: y = 0.36787944117144233 y se alcanza en x = 0.9999999999999999\n"
     ]
    }
   ],
   "source": [
    "print (\"{:<3}\\t {:<7}\\t {:<7}\\t {:<7}\\t {:<7}\\t {:<7}\\t {:<7}\".format(\"i\", \"x1\", \"x2\", \"x3\", \"y1\", \"y2\", \"y3\") )\n",
    "print ('-' * 105)\n",
    "\n",
    "bsu(f, x0, s)"
   ]
  },
  {
   "cell_type": "code",
   "execution_count": null,
   "metadata": {},
   "outputs": [],
   "source": []
  }
 ],
 "metadata": {
  "interpreter": {
   "hash": "5f1e2b7debabb81cfddc515bc2208cf2c521bebfebb13da0ee988ea546d02c25"
  },
  "kernelspec": {
   "display_name": "Python 3 (ipykernel)",
   "language": "python",
   "name": "python3"
  },
  "language_info": {
   "codemirror_mode": {
    "name": "ipython",
    "version": 3
   },
   "file_extension": ".py",
   "mimetype": "text/x-python",
   "name": "python",
   "nbconvert_exporter": "python",
   "pygments_lexer": "ipython3",
   "version": "3.11.4"
  }
 },
 "nbformat": 4,
 "nbformat_minor": 4
}
