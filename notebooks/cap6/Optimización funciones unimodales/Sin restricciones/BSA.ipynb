{
 "cells": [
  {
   "cell_type": "code",
   "execution_count": 1,
   "metadata": {},
   "outputs": [],
   "source": [
    "from utils import *\n",
    "from numpy import *\n",
    "import numpy.polynomial as pol"
   ]
  },
  {
   "cell_type": "markdown",
   "metadata": {},
   "source": [
    "# Búsqueda Secuencial Acelerada"
   ]
  },
  {
   "cell_type": "markdown",
   "metadata": {},
   "source": [
    "## Implementación"
   ]
  },
  {
   "cell_type": "markdown",
   "metadata": {},
   "source": [
    "``` bsa(f, x0, s): ``` Implementación del método de búsqueda secuencial acelerada para optimización sin restricciones en funciones unimodales\n",
    "\n",
    "### Parámetros\n",
    "\n",
    "- ``` f ``` : define la función a optimizar\n",
    "- ``` x0 ``` : punto de inicio de la búsqueda\n",
    "- ``` s ``` : paso "
   ]
  },
  {
   "cell_type": "code",
   "execution_count": 2,
   "metadata": {},
   "outputs": [],
   "source": [
    "def bsa(f, x0, s):\n",
    "    i = 1\n",
    "    x1 = x0\n",
    "    x2 = x1 + s\n",
    "    x3 = x2 + s\n",
    "\n",
    "    y1 = f(x1)\n",
    "    y2 = f(x2)\n",
    "    y3 = f(x3)\n",
    "\n",
    "    print (\"{}\\t {:.5f}\\t {:.5f}\\t {:.5f}\\t {:.5f}\\t {:.5f}\\t {:.5f}\".format(i, x1, x2, x3, y1, y2, y3) )\n",
    "\n",
    "    while (y3 > y2):\n",
    "        x1 = x1 + s\n",
    "        x2 = x2 + s\n",
    "        x3 = x3 + s\n",
    "\n",
    "        y1 = f(x1)\n",
    "        y2 = f(x2)\n",
    "        y3 = f(x3)\n",
    "\n",
    "        s *= 2\n",
    "        i += 1\n",
    "\n",
    "        print (\"{}\\t {:.5f}\\t {:.5f}\\t {:.5f}\\t {:.5f}\\t {:.5f}\\t {:.5f}\".format(i, x1, x2, x3, y1, y2, y3) )\n",
    "\n",
    "    print(f\"El punto mínimo es: y = {y2} y se alcanza en x = {x2}\")          "
   ]
  },
  {
   "cell_type": "markdown",
   "metadata": {},
   "source": [
    "## Caso para valores expresados en una función polinómica:\n",
    "\n",
    "### En el código: </br>\n",
    "```f``` -> Función polinómica a evaluar </br>\n",
    "```x0``` -> Punto inicial </br>\n",
    "```s``` -> Paso </br>"
   ]
  },
  {
   "cell_type": "markdown",
   "metadata": {},
   "source": [
    "#### Entrada de datos"
   ]
  },
  {
   "cell_type": "code",
   "execution_count": 3,
   "metadata": {},
   "outputs": [],
   "source": [
    "f = \"x^4-8x^3+16x^2\"\n",
    "x0 = 3\n",
    "s = 0.1"
   ]
  },
  {
   "cell_type": "markdown",
   "metadata": {},
   "source": [
    "#### Salida"
   ]
  },
  {
   "cell_type": "code",
   "execution_count": 4,
   "metadata": {},
   "outputs": [
    {
     "name": "stdout",
     "output_type": "stream",
     "text": [
      "i  \t x1     \t x2     \t x3     \t y1     \t y2     \t y3     \n",
      "---------------------------------------------------------------------------------------------------------\n",
      "1\t 3.00000\t 3.10000\t 3.20000\t 9.00000\t 7.78410\t 6.55360\n",
      "El punto mínimo es: y = 7.784099999999988 y se alcanza en x = 3.1\n"
     ]
    }
   ],
   "source": [
    "raw_c = poly_coefficients(f)\n",
    "coef = raw_c[::-1]\n",
    "\n",
    "p = pol.Polynomial(coef)\n",
    "\n",
    "print (\"{:<3}\\t {:<7}\\t {:<7}\\t {:<7}\\t {:<7}\\t {:<7}\\t {:<7}\".format(\"i\", \"x1\", \"x2\", \"x3\", \"y1\", \"y2\", \"y3\") )\n",
    "print ('-' * 105)\n",
    "\n",
    "bsa(p, x0, s)"
   ]
  },
  {
   "cell_type": "markdown",
   "metadata": {},
   "source": [
    "## Caso para valores expresados en una función de tipo _numpy_:\n",
    "\n",
    "### En el código: </br>\n",
    "```f``` -> Función a evaluar </br>\n",
    "```x0``` -> Punto inicial </br>\n",
    "```s``` -> Paso </br>"
   ]
  },
  {
   "cell_type": "markdown",
   "metadata": {},
   "source": [
    "#### Entrada de datos"
   ]
  },
  {
   "cell_type": "code",
   "execution_count": 5,
   "metadata": {},
   "outputs": [],
   "source": [
    "f = lambda x: x * pow(e,-x)\n",
    "x0 = 0\n",
    "s = 0.1"
   ]
  },
  {
   "cell_type": "markdown",
   "metadata": {},
   "source": [
    "#### Salida"
   ]
  },
  {
   "cell_type": "code",
   "execution_count": 6,
   "metadata": {},
   "outputs": [
    {
     "name": "stdout",
     "output_type": "stream",
     "text": [
      "i  \t x1     \t x2     \t x3     \t y1     \t y2     \t y3     \n",
      "---------------------------------------------------------------------------------------------------------\n",
      "1\t 0.00000\t 0.10000\t 0.20000\t 0.00000\t 0.09048\t 0.16375\n",
      "2\t 0.10000\t 0.20000\t 0.30000\t 0.09048\t 0.16375\t 0.22225\n",
      "3\t 0.30000\t 0.40000\t 0.50000\t 0.22225\t 0.26813\t 0.30327\n",
      "4\t 0.70000\t 0.80000\t 0.90000\t 0.34761\t 0.35946\t 0.36591\n",
      "5\t 1.50000\t 1.60000\t 1.70000\t 0.33470\t 0.32303\t 0.31056\n",
      "El punto mínimo es: y = 0.32303442879144867 y se alcanza en x = 1.6\n"
     ]
    }
   ],
   "source": [
    "print (\"{:<3}\\t {:<7}\\t {:<7}\\t {:<7}\\t {:<7}\\t {:<7}\\t {:<7}\".format(\"i\", \"x1\", \"x2\", \"x3\", \"y1\", \"y2\", \"y3\") )\n",
    "print ('-' * 105)\n",
    "\n",
    "bsa(f, x0, s)"
   ]
  }
 ],
 "metadata": {
  "interpreter": {
   "hash": "5f1e2b7debabb81cfddc515bc2208cf2c521bebfebb13da0ee988ea546d02c25"
  },
  "kernelspec": {
   "display_name": "Python 3 (ipykernel)",
   "language": "python",
   "name": "python3"
  },
  "language_info": {
   "codemirror_mode": {
    "name": "ipython",
    "version": 3
   },
   "file_extension": ".py",
   "mimetype": "text/x-python",
   "name": "python",
   "nbconvert_exporter": "python",
   "pygments_lexer": "ipython3",
   "version": "3.11.4"
  }
 },
 "nbformat": 4,
 "nbformat_minor": 4
}
